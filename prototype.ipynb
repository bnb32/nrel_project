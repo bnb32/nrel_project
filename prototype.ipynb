{
 "cells": [
  {
   "cell_type": "code",
   "execution_count": 1,
   "id": "6293045e-0133-44f9-b779-a05de918c189",
   "metadata": {},
   "outputs": [],
   "source": [
    "import requests\n",
    "import pandas as pd\n",
    "import numpy as np\n",
    "import plotly.express as px\n",
    "import plotly.graph_objects as go\n",
    "from plotly.subplots import make_subplots\n",
    "import plotly.io as pio\n",
    "from sklearn.cluster import KMeans, DBSCAN\n",
    "import h5pyd\n",
    "import matplotlib.pyplot as plt\n",
    "import matplotlib.image as mpimg\n",
    "from scipy.spatial import cKDTree\n",
    "from sklearn import preprocessing\n",
    "from tqdm import tqdm\n",
    "from sklearn.neighbors import NearestNeighbors\n",
    "pio.renderers.default = 'iframe'\n",
    "%matplotlib inline"
   ]
  },
  {
   "cell_type": "code",
   "execution_count": 141,
   "id": "660f512a-5baa-4b15-88cf-1fd1c5cfed35",
   "metadata": {},
   "outputs": [],
   "source": [
    "def get_stations(lat=40,lon=-105,radius=1000):\n",
    "    uri_stations=f'https://developer.nrel.gov/api/solar/data_query/v1.json?api_key={api_key}&lat={lat}&lon={lon}&radius={radius}&all=1'\n",
    "    rstations = requests.get(uri_stations)\n",
    "    print(rstations)\n",
    "    stations = rstations.json()['outputs']['all_stations']\n",
    "    return stations\n",
    "   \n",
    "def get_data(lat=40,lon=-105,radius=0):\n",
    "    uri_data=f'https://developer.nrel.gov/api/solar/solar_resource/v1.json?api_key={api_key}&lat={lat}&lon={lon}&radius={radius}&all=1'\n",
    "    rdata = requests.get(uri_data)\n",
    "    data = rdata.json()['outputs']\n",
    "    return data\n",
    "\n",
    "def get_energy(lat=40,lon=-105,radius=0,capacity=4,azimuth=180,tilt=0,array_type=0,module_type=0,losses=10):\n",
    "    uri_energy=f'https://developer.nrel.gov/api/pvwatts/v6.json?api_key={api_key}&lat={lat}&lon={lon}&radius={radius}'\n",
    "    uri_energy+=f'&system_capacity={capacity}&azimuth={azimuth}&tilt={tilt}&array_type={array_type}&module_type={module_type}&losses={losses}'\n",
    "    print(lat,lon)\n",
    "    renergy = requests.get(uri_energy)\n",
    "    data = renergy.json()['outputs']\n",
    "    return data\n",
    "                         \n",
    "def build_ds(lat=40,lon=-105,radius=1000):\n",
    "    ds = pd.DataFrame()\n",
    "    stations = get_stations(lat=lat,lon=lon,radius=radius)\n",
    "    for e in stations:\n",
    "        if e['dataset'] == 'tmy3':\n",
    "            try:\n",
    "                data = get_data(e['lat'],e['lon'])\n",
    "                entry = {'lat':e['lat'],\n",
    "                     'lon':e['lon'],\n",
    "                     'elevation':e['elevation'],\n",
    "                     'avg_dni_annual':data['avg_dni']['annual'],\n",
    "                     'avg_ghi_annual':data['avg_ghi']['annual'],\n",
    "                     'avg_lat_tilt_annual':data['avg_lat_tilt']['annual']}\n",
    "                for m,v in data['avg_dni']['monthly'].items():\n",
    "                    entry[f'avg_dni_{m}'] = v\n",
    "                for m,v in data['avg_ghi']['monthly'].items():\n",
    "                    entry[f'avg_ghi_{m}'] = v\n",
    "                for m,v in data['avg_lat_tilt']['monthly'].items():\n",
    "                    entry[f'avg_lat_tilt_{m}'] = v                        \n",
    "                ds = ds.append(entry, ignore_index=True)\n",
    "            except:\n",
    "                pass\n",
    "    return ds\n",
    "\n",
    "def closest_lat_lon(df,lat=40,lon=-105):\n",
    "    lats = df['latitude'].values\n",
    "    lons = df['longitude'].values\n",
    "    diff = np.inf\n",
    "    index = 0\n",
    "    for i in range(len(lats)):\n",
    "        dist = (lat-lats[i])**2+(lon-lons[i])**2\n",
    "        if dist < diff:\n",
    "            index = i\n",
    "            diff = dist\n",
    "    return index        \n",
    "\n",
    "def get_corrs(df,lat=40,lon=-105,features=None):\n",
    "    min_max_scaler = preprocessing.MinMaxScaler()\n",
    "    if features is None:\n",
    "        features = [c for c in df.columns if c != 'latitude' and \n",
    "                c != 'longitude' and c != 'cluster']# and \n",
    "                #c != 'wind_speed' and c != 'clearsky_dhi' and\n",
    "                #c != 'clearsky_dni' and c != 'clearsky_ghi' and\n",
    "                #c != 'elevation' and c != 'landcover']\n",
    "    x_scaled = min_max_scaler.fit_transform(df[features])\n",
    "    df_scaled = pd.DataFrame(x_scaled)\n",
    "    df_corrs = df_scaled.T.corr()\n",
    "    return df_corrs.iloc[closest_lat_lon(df,lat,lon)]\n",
    "\n",
    "def get_rad_data(timestep,spatial_index):\n",
    "    df['ghi'] = f['ghi'][timestep,spatial_index]/f['ghi'].attrs['psm_scale_factor']\n",
    "    df['dni'] = f['dni'][timestep,spatial_index]/f['dni'].attrs['psm_scale_factor']\n",
    "    df['dhi'] = f['dhi'][timestep,spatial_index]/f['dhi'].attrs['psm_scale_factor']\n",
    "    df['dew_point'] = f['dew_point'][timestep,spatial_index]/f['dew_point'].attrs['psm_scale_factor']\n",
    "    df['solar_zenith_angle'] = f['solar_zenith_angle'][timestep,spatial_index]/f['solar_zenith_angle'].attrs['psm_scale_factor']\n",
    "    df['total_precip'] = f['total_precipitable_water'][timestep,spatial_index]/f['total_precipitable_water'].attrs['psm_scale_factor']\n",
    "    df['air_temp'] = f['air_temperature'][timestep,spatial_index]/f['air_temperature'].attrs['psm_scale_factor']\n",
    "    df['wind_speed'] = f['wind_speed'][timestep,spatial_index]/f['wind_speed'].attrs['psm_scale_factor']\n",
    "    df['relative_humidity'] = f['relative_humidity'][timestep,spatial_index]/f['relative_humidity'].attrs['psm_scale_factor']\n",
    "    df['surface_albedo'] = f['surface_albedo'][timestep,spatial_index]/f['surface_albedo'].attrs['psm_scale_factor']\n",
    "    df['cloud_type'] = f['cloud_type'][timestep,spatial_index]/f['cloud_type'].attrs['psm_scale_factor']\n",
    "    df['clearsky_dhi'] = f['clearsky_dhi'][timestep,spatial_index]/f['clearsky_dhi'].attrs['psm_scale_factor']\n",
    "    df['clearsky_dni'] = f['clearsky_dni'][timestep,spatial_index]/f['clearsky_dni'].attrs['psm_scale_factor']\n",
    "    df['clearsky_ghi'] = f['clearsky_ghi'][timestep,spatial_index]/f['clearsky_ghi'].attrs['psm_scale_factor']\n",
    "    return df\n",
    "\n",
    "def get_avg_field(field,spatial_index,stride=10):\n",
    "    tmp = []#[0]*len(spatial_index)\n",
    "    for i in tqdm(spatial_index):\n",
    "        tmp.append(np.mean(f[field][::stride,i]/f[field].attrs['psm_scale_factor']))\n",
    "    return tmp\n",
    "\n",
    "def add_mean_field(field,spatial_index,stride=1000):\n",
    "    df[field] = get_avg_field(field,spatial_index,stride)\n",
    "    return df\n",
    "\n",
    "def get_mean_rad_data(spatial_index,stride=1000):\n",
    "    df['ghi'] = get_avg_field('ghi',spatial_index,stride)\n",
    "    df['dni'] = get_avg_field('dni',spatial_index,stride)\n",
    "    df['dhi'] = get_avg_field('dhi',spatial_index,stride)\n",
    "    df['dew_point'] = get_avg_field('dew_point',spatial_index,stride)\n",
    "    df['solar_zenith_angle'] = get_avg_field('zolar_zenith_angle',spatial_index,stride)\n",
    "    df['total_precipitable_water'] = get_avg_field('total_precipitable_water',spatial_index,stride)\n",
    "    df['air_temperature'] = get_avg_field('air_temperature',spatial_index,stride)\n",
    "    df['wind_speed'] = get_avg_field('wind_speed',spatial_index,stride)\n",
    "    df['relative_humidity'] = get_avg_field('relative_humidity',spatial_index,stride)\n",
    "    df['surface_albedo'] = get_avg_field('surface_albedo',spatial_index,stride)\n",
    "    df['cloud_type'] = get_avg_field('cloud_type',spatial_index,stride)\n",
    "    df['clearsky_dhi'] = get_avg_field('clearsky_dhi',spatial_index,stride)\n",
    "    df['clearsky_dni'] = get_avg_field('clearsky_dni',spatial_index,stride)\n",
    "    df['clearsky_ghi'] = get_avg_field('clearsky_ghi',spatial_index,stride)\n",
    "    return df\n",
    "\n",
    "def get_energy_data(timestep,coordinates):\n",
    "    ac_array = []\n",
    "    for i in range(coordinates.shape[0]):\n",
    "        lat = coordinates.values[i][1]\n",
    "        lon = coordinates.values[i][0]\n",
    "        #try:\n",
    "        ac = get_energy(lat=lat,lon=lon)['ac_monthly'][timestep]\n",
    "        #except:\n",
    "        #    ac = 0\n",
    "        ac_array.append(ac)\n",
    "    df_energy['ac'] = ac_array    \n",
    "    return df_energy \n",
    "\n",
    "def scale_data(df,features=None):\n",
    "    if features is None:\n",
    "        features = [c for c in df.columns if c != 'latitude' and \n",
    "                    c != 'longitude' and 'cluster' not in c]\n",
    "                # and \n",
    "                #c != 'wind_speed' and c != 'clearsky_dhi' and\n",
    "                #c != 'clearsky_dni' and c != 'clearsky_ghi' and\n",
    "                #c != 'elevation' and c != 'landcover']\n",
    "    x = df[features].values #returns a numpy array\n",
    "    min_max_scaler = preprocessing.MinMaxScaler()\n",
    "    x_scaled = min_max_scaler.fit_transform(x)\n",
    "    df_scaled = pd.DataFrame(x_scaled)\n",
    "    return df_scaled\n",
    "\n",
    "def cluster_data_kmeans(df,n_clusters=8,features=None):\n",
    "    df_scaled = scale_data(df,features)\n",
    "    clusters = KMeans(n_clusters=n_clusters, random_state=0).fit(df_scaled)\n",
    "    #clusters = DBSCAN(eps=eps).fit(df_scaled)\n",
    "    df['kmeans_cluster'] = clusters.labels_\n",
    "    return df,clusters.inertia_\n",
    "\n",
    "def cluster_data_dbscan(df_scaled,eps=0.1,features=None):\n",
    "    df_scaled = scale_data(df,features)\n",
    "    clusters = DBSCAN(eps=eps).fit(df_scaled)\n",
    "    df['dbscan_cluster'] = clusters.labels_\n",
    "    return df\n",
    "\n",
    "def curvature(a):\n",
    "    b = [0]*len(a)\n",
    "    for i in range(len(b)):\n",
    "        if 0<i<len(a)-1:\n",
    "            b[i] = (a[i+1]-2*a[i]+a[i-1])\n",
    "        elif i==0:\n",
    "            b[i] = (a[i+1]-2*a[i])\n",
    "        elif i==len(a)-1:\n",
    "            b[i] = (-2*a[i]+a[i-1])\n",
    "    return b  \n",
    "\n",
    "def get_optimal_k(df,features=None):\n",
    "    distortions = []\n",
    "    K = range(1,10)\n",
    "    for k in K:\n",
    "        df,dist = cluster_data_kmeans(df,n_clusters=k,features=features)\n",
    "        distortions.append(dist)  \n",
    "    return K[np.argmax(curvature(distortions))]\n",
    "\n",
    "def get_optimal_eps(df,features=None):\n",
    "    df_scaled = scale_data(df,features)\n",
    "    neigh = NearestNeighbors(n_neighbors=2)\n",
    "    nbrs = neigh.fit(df_scaled)\n",
    "    distances, indices = nbrs.kneighbors(df_scaled)\n",
    "    distances = np.sort(distances, axis=0)\n",
    "    distances = distances[:,1]\n",
    "    return distances[np.argmax(curvature(distances))]\n",
    "\n",
    "def add_subplot(fig,field,row,col,x,y,clen=0.35,cbar_title=''):\n",
    "    fig.add_trace(go.Scattergeo(\n",
    "        lon = df['longitude'],\n",
    "        lat = df['latitude'],\n",
    "        text = df[field],\n",
    "        mode = 'markers',\n",
    "        marker_color = df[field],\n",
    "        showlegend=False,\n",
    "        marker = dict(colorscale='inferno',\n",
    "                      colorbar=dict(x=x,y=y,len=clen,thickness=7,\n",
    "                                    title=cbar_title,titleside='right',\n",
    "                                    titlefont=dict(family='Courier New',size=12),\n",
    "                                    tickfont=dict(family='Courier New',size=12))),\n",
    "        ),row=row,col=col)\n",
    "    return fig"
   ]
  },
  {
   "cell_type": "code",
   "execution_count": 176,
   "id": "6b93f933-4ccb-46e4-9f4e-b49fef2bc2be",
   "metadata": {},
   "outputs": [],
   "source": [
    "f = h5pyd.File(\"/nrel/nsrdb/v3/nsrdb_2018.h5\", 'r')"
   ]
  },
  {
   "cell_type": "code",
   "execution_count": 148,
   "id": "6912ed41-8243-4594-8269-8c21f35148ee",
   "metadata": {},
   "outputs": [],
   "source": [
    "meta = pd.DataFrame(f['meta'][...])\n",
    "USA = meta.loc[meta['country']==b'United States'][::1000]"
   ]
  },
  {
   "cell_type": "code",
   "execution_count": 65,
   "id": "42d56954-bb7e-4f3c-8460-3f9ce0ac5012",
   "metadata": {},
   "outputs": [
    {
     "data": {
      "text/plain": [
       "\"\\nCO = meta.loc[meta['state']==b'Colorado'][::10]\\ndf = CO[['longitude','latitude']].copy()\\ndf_energy = CO[['longitude','latitude']].copy()\\n\""
      ]
     },
     "execution_count": 65,
     "metadata": {},
     "output_type": "execute_result"
    }
   ],
   "source": [
    "#df = USA[['longitude','latitude','elevation','landcover']].copy()\n",
    "#df_energy = USA[['longitude','latitude']].copy()\n",
    "'''\n",
    "CO = meta.loc[meta['state']==b'Colorado'][::10]\n",
    "df = CO[['longitude','latitude']].copy()\n",
    "df_energy = CO[['longitude','latitude']].copy()\n",
    "'''"
   ]
  },
  {
   "cell_type": "code",
   "execution_count": 76,
   "id": "8dba9753-330a-48d8-926a-97c970ec1780",
   "metadata": {},
   "outputs": [
    {
     "name": "stderr",
     "output_type": "stream",
     "text": [
      "100%|█████████████████████████████████████████████████████████████████████| 547/547 [03:46<00:00,  2.41it/s]\n"
     ]
    }
   ],
   "source": [
    "df = add_mean_field('ghi',USA.index,stride=1000)"
   ]
  },
  {
   "cell_type": "code",
   "execution_count": 78,
   "id": "75971b08-3f71-493a-b9f0-f83c6094f2aa",
   "metadata": {},
   "outputs": [
    {
     "name": "stderr",
     "output_type": "stream",
     "text": [
      "100%|█████████████████████████████████████████████████████████████████████| 547/547 [03:56<00:00,  2.31it/s]\n"
     ]
    }
   ],
   "source": [
    "df = add_mean_field('air_temperature',USA.index,stride=1000)"
   ]
  },
  {
   "cell_type": "code",
   "execution_count": 80,
   "id": "00a898fd-2a93-406e-907b-c78209eeefb9",
   "metadata": {},
   "outputs": [
    {
     "name": "stderr",
     "output_type": "stream",
     "text": [
      "100%|█████████████████████████████████████████████████████████████████████| 547/547 [04:04<00:00,  2.24it/s]\n"
     ]
    }
   ],
   "source": [
    "df = add_mean_field('dew_point',USA.index,stride=1000)"
   ]
  },
  {
   "cell_type": "code",
   "execution_count": 87,
   "id": "c4d955e0-2dd6-4497-9d8a-1fa9f166df0d",
   "metadata": {},
   "outputs": [
    {
     "name": "stderr",
     "output_type": "stream",
     "text": [
      "100%|█████████████████████████████████████████████████████████████████████| 547/547 [04:32<00:00,  2.01it/s]\n"
     ]
    }
   ],
   "source": [
    "df = add_mean_field('surface_albedo',USA.index,stride=1000)"
   ]
  },
  {
   "cell_type": "code",
   "execution_count": 89,
   "id": "368b0854-0947-471f-9ab9-43bd58aae55e",
   "metadata": {},
   "outputs": [
    {
     "name": "stderr",
     "output_type": "stream",
     "text": [
      "100%|█████████████████████████████████████████████████████████████████████| 547/547 [03:29<00:00,  2.62it/s]\n"
     ]
    }
   ],
   "source": [
    "df = add_mean_field('cloud_type',USA.index,stride=1000)"
   ]
  },
  {
   "cell_type": "code",
   "execution_count": 91,
   "id": "cf51a256-3fd0-4d07-98a0-77e61ca24054",
   "metadata": {},
   "outputs": [
    {
     "name": "stderr",
     "output_type": "stream",
     "text": [
      "100%|█████████████████████████████████████████████████████████████████████| 547/547 [03:34<00:00,  2.55it/s]\n"
     ]
    }
   ],
   "source": [
    "df = add_mean_field('wind_speed',USA.index,stride=1000)"
   ]
  },
  {
   "cell_type": "code",
   "execution_count": 93,
   "id": "7edb21e4-aeb6-4997-a076-b110a5be56e2",
   "metadata": {},
   "outputs": [
    {
     "name": "stderr",
     "output_type": "stream",
     "text": [
      "100%|█████████████████████████████████████████████████████████████████████| 547/547 [03:34<00:00,  2.54it/s]\n"
     ]
    }
   ],
   "source": [
    "df = add_mean_field('relative_humidity',USA.index,stride=1000)"
   ]
  },
  {
   "cell_type": "code",
   "execution_count": 95,
   "id": "109a7c0e-701c-45c7-a02a-07f6513f03a8",
   "metadata": {},
   "outputs": [
    {
     "name": "stderr",
     "output_type": "stream",
     "text": [
      "100%|█████████████████████████████████████████████████████████████████████| 547/547 [03:39<00:00,  2.49it/s]\n"
     ]
    }
   ],
   "source": [
    "df = add_mean_field('dni',USA.index,stride=1000)"
   ]
  },
  {
   "cell_type": "code",
   "execution_count": 97,
   "id": "09ad7ad3-6d87-47b7-b552-5b1785ce45b2",
   "metadata": {},
   "outputs": [
    {
     "name": "stderr",
     "output_type": "stream",
     "text": [
      "100%|█████████████████████████████████████████████████████████████████████| 547/547 [03:30<00:00,  2.60it/s]\n"
     ]
    }
   ],
   "source": [
    "df = add_mean_field('solar_zenith_angle',USA.index,stride=1000)"
   ]
  },
  {
   "cell_type": "code",
   "execution_count": 99,
   "id": "2273986b-eb84-4d1b-8053-a9df78e4b44a",
   "metadata": {},
   "outputs": [
    {
     "name": "stderr",
     "output_type": "stream",
     "text": [
      "100%|█████████████████████████████████████████████████████████████████████| 547/547 [03:47<00:00,  2.41it/s]\n"
     ]
    }
   ],
   "source": [
    "df = add_mean_field('total_precipitable_water',USA.index,stride=1000)"
   ]
  },
  {
   "cell_type": "code",
   "execution_count": 101,
   "id": "0985e5da-cc75-4b76-a926-05024df234df",
   "metadata": {},
   "outputs": [
    {
     "name": "stderr",
     "output_type": "stream",
     "text": [
      "100%|█████████████████████████████████████████████████████████████████████| 547/547 [03:59<00:00,  2.28it/s]\n"
     ]
    }
   ],
   "source": [
    "df = add_mean_field('dhi',USA.index,stride=1000)"
   ]
  },
  {
   "cell_type": "code",
   "execution_count": 103,
   "id": "562e8791-c93d-4704-9f25-35578948d4a8",
   "metadata": {},
   "outputs": [
    {
     "name": "stderr",
     "output_type": "stream",
     "text": [
      "100%|█████████████████████████████████████████████████████████████████████| 547/547 [04:03<00:00,  2.25it/s]\n"
     ]
    }
   ],
   "source": [
    "df = add_mean_field('clearsky_dhi',USA.index,stride=1000)"
   ]
  },
  {
   "cell_type": "code",
   "execution_count": 106,
   "id": "cb56253a-ab01-4aee-9d3f-e7db5bfa820c",
   "metadata": {},
   "outputs": [
    {
     "name": "stderr",
     "output_type": "stream",
     "text": [
      "100%|█████████████████████████████████████████████████████████████████████| 547/547 [03:58<00:00,  2.29it/s]\n"
     ]
    }
   ],
   "source": [
    "df = add_mean_field('clearsky_ghi',USA.index,stride=1000)"
   ]
  },
  {
   "cell_type": "code",
   "execution_count": 108,
   "id": "387c7d82-3792-4cfc-874f-717a8c682c10",
   "metadata": {},
   "outputs": [
    {
     "name": "stderr",
     "output_type": "stream",
     "text": [
      "100%|█████████████████████████████████████████████████████████████████████| 547/547 [03:54<00:00,  2.34it/s]\n"
     ]
    }
   ],
   "source": [
    "df = add_mean_field('clearsky_dni',USA.index,stride=1000)"
   ]
  },
  {
   "cell_type": "code",
   "execution_count": 66,
   "id": "05b20a64-e490-4364-b7bd-3b42f341e892",
   "metadata": {},
   "outputs": [
    {
     "name": "stderr",
     "output_type": "stream",
     "text": [
      "100%|█████████████████████████████████████████████████████████████████████| 547/547 [04:03<00:00,  2.25it/s]\n"
     ]
    }
   ],
   "source": [
    "#df = add_mean_field('surface_pressure',USA.index,stride=1000)"
   ]
  },
  {
   "cell_type": "code",
   "execution_count": 110,
   "id": "2c8d2e3a-d601-4a03-be0a-4926d78b7da3",
   "metadata": {},
   "outputs": [
    {
     "name": "stderr",
     "output_type": "stream",
     "text": [
      "100%|█████████████████████████████████████████████████████████████████████| 547/547 [03:56<00:00,  2.32it/s]\n"
     ]
    }
   ],
   "source": [
    "df = add_mean_field('aod',USA.index,stride=1000)"
   ]
  },
  {
   "cell_type": "code",
   "execution_count": 112,
   "id": "a5ff5e95-15b5-4e67-9efd-ae59302e1357",
   "metadata": {},
   "outputs": [
    {
     "name": "stderr",
     "output_type": "stream",
     "text": [
      "100%|█████████████████████████████████████████████████████████████████████| 547/547 [04:01<00:00,  2.26it/s]\n"
     ]
    }
   ],
   "source": [
    "df = add_mean_field('cloud_press_acha',USA.index,stride=1000)"
   ]
  },
  {
   "cell_type": "code",
   "execution_count": 149,
   "id": "8db63d5d-90c8-4864-a7d0-3cdfd7d264d2",
   "metadata": {},
   "outputs": [
    {
     "name": "stderr",
     "output_type": "stream",
     "text": [
      "100%|█████████████████████████████████████████████████████████████████████| 547/547 [03:22<00:00,  2.70it/s]\n"
     ]
    }
   ],
   "source": [
    "df = add_mean_field('cld_opd_dcomp',USA.index,stride=1000)"
   ]
  },
  {
   "cell_type": "code",
   "execution_count": 151,
   "id": "7d6f2d5f-d548-4748-8434-ec527856a5b9",
   "metadata": {},
   "outputs": [
    {
     "name": "stderr",
     "output_type": "stream",
     "text": [
      "100%|█████████████████████████████████████████████████████████████████████| 547/547 [03:40<00:00,  2.49it/s]\n"
     ]
    }
   ],
   "source": [
    "df = add_mean_field('cld_reff_dcomp',USA.index,stride=1000)"
   ]
  },
  {
   "cell_type": "code",
   "execution_count": null,
   "id": "e9c90dd6-540a-47b9-aa6b-0b90702fd00c",
   "metadata": {},
   "outputs": [],
   "source": [
    "df = add_mean_field('alpha',USA.index,stride=1000)"
   ]
  },
  {
   "cell_type": "code",
   "execution_count": null,
   "id": "f1aea637-a5f5-4e59-a0fe-5c29aa90f483",
   "metadata": {},
   "outputs": [],
   "source": [
    "df = add_mean_field('asymmetry',USA.index,stride=1000)"
   ]
  },
  {
   "cell_type": "code",
   "execution_count": 170,
   "id": "27d01581-bc64-4547-ab14-593ae8963969",
   "metadata": {},
   "outputs": [
    {
     "name": "stderr",
     "output_type": "stream",
     "text": [
      "100%|█████████████████████████████████████████████████████████████████████| 547/547 [03:43<00:00,  2.45it/s]\n"
     ]
    }
   ],
   "source": [
    "df = add_mean_field('ozone',USA.index,stride=1000)"
   ]
  },
  {
   "cell_type": "code",
   "execution_count": 177,
   "id": "8a1afcd0-8918-42dd-bcb7-befa6011c7e3",
   "metadata": {},
   "outputs": [
    {
     "name": "stderr",
     "output_type": "stream",
     "text": [
      "100%|█████████████████████████████████████████████████████████████████████| 547/547 [03:34<00:00,  2.55it/s]\n"
     ]
    }
   ],
   "source": [
    "df = add_mean_field('ssa',USA.index,stride=1000)"
   ]
  },
  {
   "cell_type": "code",
   "execution_count": 153,
   "id": "54f86bb2-09cf-4dce-a47a-082000b045f0",
   "metadata": {},
   "outputs": [
    {
     "name": "stderr",
     "output_type": "stream",
     "text": [
      "100%|█████████████████████████████████████████████████████████████████████| 547/547 [03:45<00:00,  2.43it/s]\n"
     ]
    }
   ],
   "source": [
    "df = add_mean_field('wind_direction',USA.index,stride=1000)"
   ]
  },
  {
   "cell_type": "code",
   "execution_count": 180,
   "id": "37efa84e-9325-4022-aa55-c38e3dbf2ed2",
   "metadata": {},
   "outputs": [],
   "source": [
    "df.to_csv('nrel_df.csv')\n",
    "#df.to_pickle('/data/bnb32/tmp/nrel_df_bkup.pkl')"
   ]
  },
  {
   "cell_type": "code",
   "execution_count": 3,
   "id": "2c489faf-b5e2-4ad5-b1f5-efb2acf41b02",
   "metadata": {},
   "outputs": [],
   "source": [
    "df = pd.read_pickle('/data/bnb32/tmp/nrel_df.pkl')"
   ]
  },
  {
   "cell_type": "code",
   "execution_count": 71,
   "id": "d5094bc9-5dff-4bab-b61a-67df493e56ed",
   "metadata": {},
   "outputs": [],
   "source": [
    "df = pd.read_csv('nrel_df.csv')"
   ]
  },
  {
   "cell_type": "code",
   "execution_count": 316,
   "id": "e62af2b9-864c-4433-8608-b5e23f9ead23",
   "metadata": {},
   "outputs": [
    {
     "data": {
      "text/plain": [
       "0.2205520913781743"
      ]
     },
     "execution_count": 316,
     "metadata": {},
     "output_type": "execute_result"
    }
   ],
   "source": [
    "df_scaled = scale_data(df,features)\n",
    "neigh = NearestNeighbors(n_neighbors=2)\n",
    "nbrs = neigh.fit(df_scaled)\n",
    "distances, indices = nbrs.kneighbors(df_scaled)\n",
    "distances = np.sort(distances, axis=0)\n",
    "distances = distances[:,1]\n",
    "distances[np.argmax(curvature(distances))]\n",
    "#plt.plot(distances)"
   ]
  },
  {
   "cell_type": "code",
   "execution_count": 422,
   "id": "6caa4ebc-a0ff-4550-a141-6c4ba3759790",
   "metadata": {},
   "outputs": [
    {
     "data": {
      "image/png": "[encoded data removed]",
      "text/plain": [
       "<Figure size 720x720 with 1 Axes>"
      ]
     },
     "metadata": {
      "needs_background": "light"
     },
     "output_type": "display_data"
    }
   ],
   "source": [
    "fig,ax = plt.subplots(figsize=(10,10))\n",
    "#plt.figure(figsize=(16,8))\n",
    "ax.plot(distances[500:],label='Distances')\n",
    "ax.plot(curvature(distances)[500:],'bx-',label='Curvature')\n",
    "plt.ylabel('eps')\n",
    "#plt.ylabel('Curvature')\n",
    "plt.title('Optimizing eps')\n",
    "legend = ax.legend()\n",
    "plt.savefig('optimal_eps.png')"
   ]
  },
  {
   "cell_type": "code",
   "execution_count": 167,
   "id": "86386b83-17db-4ed7-9fb6-7ecf0bf0eba6",
   "metadata": {},
   "outputs": [
    {
     "data": {
      "text/plain": [
       "2"
      ]
     },
     "execution_count": 167,
     "metadata": {},
     "output_type": "execute_result"
    }
   ],
   "source": [
    "distortions = []\n",
    "K = range(1,10)\n",
    "for k in K:\n",
    "    df,dist = cluster_data_kmeans(df,n_clusters=k,features=features)\n",
    "    distortions.append(dist)\n",
    "K[np.argmax(curvature(distortions))]    "
   ]
  },
  {
   "cell_type": "code",
   "execution_count": 449,
   "id": "5b5b06a9-79b8-46b2-a021-55ec772c1a09",
   "metadata": {},
   "outputs": [
    {
     "data": {
      "image/png": "[encoded data removed]",
      "text/plain": [
       "<Figure size 720x720 with 1 Axes>"
      ]
     },
     "metadata": {
      "needs_background": "light"
     },
     "output_type": "display_data"
    }
   ],
   "source": [
    "#plt.figure(figsize=(16,8))\n",
    "fig,ax = plt.subplots(figsize=(10,10))\n",
    "ax.plot(K, distortions, 'bx-',label='Distortion')\n",
    "ax.plot(K,curvature(distortions),label='Curvature')\n",
    "plt.xlabel('k')\n",
    "#plt.ylabel('Distortion')\n",
    "plt.title('Optimizing k')\n",
    "legend = ax.legend()\n",
    "plt.savefig('optimal_k.png')\n",
    "plt.show()"
   ]
  },
  {
   "cell_type": "code",
   "execution_count": 158,
   "id": "91cd1e56-eabc-49e3-92f5-f4b7cbb3f2b7",
   "metadata": {},
   "outputs": [],
   "source": [
    "base_features = ['dbscan_cluster',None,None,None,'kmeans_cluster',None,None,None,\n",
    "                 None,None,None,None,None,None,None,None,\n",
    "                 'elevation', 'landcover', 'surface_pressure',\n",
    "                 'ghi', 'air_temperature', 'dew_point', 'surface_albedo', 'cloud_type',\n",
    "                 'wind_speed', 'relative_humidity', 'dni', 'solar_zenith_angle',\n",
    "                 'total_precipitable_water', 'dhi', 'clearsky_dhi', 'clearsky_ghi',\n",
    "                 'clearsky_dni', 'aod', 'cloud_press_acha','cld_opd_dcomp',\n",
    "                 'cld_reff_dcomp','wind_direction','ozone','ssa']"
   ]
  },
  {
   "cell_type": "code",
   "execution_count": 159,
   "id": "db87986b-8115-4ac0-b47f-9edba5aad5ec",
   "metadata": {},
   "outputs": [],
   "source": [
    "feature_units = []\n",
    "for b in base_features:\n",
    "    try:\n",
    "        feature_units.append(f[b].attrs['units'])\n",
    "    except:\n",
    "        feature_units.append('')       "
   ]
  },
  {
   "cell_type": "code",
   "execution_count": 173,
   "id": "debffa4a-1432-41dd-a495-442980dbeb51",
   "metadata": {},
   "outputs": [
    {
     "data": {
      "text/plain": [
       "'atm-cm'"
      ]
     },
     "execution_count": 173,
     "metadata": {},
     "output_type": "execute_result"
    }
   ],
   "source": [
    "f['ozone'].attrs['units']"
   ]
  },
  {
   "cell_type": "code",
   "execution_count": 187,
   "id": "8379c43e-32c4-479a-a1df-7d5c2d84f124",
   "metadata": {},
   "outputs": [],
   "source": [
    "def generate_figure(df,features,n_clusters=None,eps=None):\n",
    "    feature_units = ['','','','','','','','','','','','','','','','',\n",
    "                     'm','m2','hPa','W/m2','Celsius','Celsius',\n",
    "                     'unitless',\"type\",'m/s','%','W/m2','degrees',\n",
    "                     'cm','W/m2','W/m2','W/m2','W/m2','unitless','hPa',\n",
    "                     '','','degrees','atm-cm','']\n",
    "    if n_clusters is None:\n",
    "        n_clusters = get_optimal_k(df,features)\n",
    "    if eps is None:\n",
    "        eps = get_optimal_eps(df,features)\n",
    "    df = cluster_data_dbscan(df,\n",
    "                             eps=eps,\n",
    "                             features=features)\n",
    "    df,dist = cluster_data_kmeans(df,\n",
    "                                  n_clusters=n_clusters,\n",
    "                                  features=features)\n",
    "    \n",
    "    base_features = ['dbscan_cluster',None,None,None,'kmeans_cluster',None,None,None,\n",
    "                     None,None,None,None,None,None,None,None,\n",
    "                    'elevation', 'landcover', 'surface_pressure',\n",
    "                    'ghi', 'air_temperature', 'dew_point', 'surface_albedo', 'cloud_type',\n",
    "                    'wind_speed', 'relative_humidity', 'dni', 'solar_zenith_angle',\n",
    "                    'total_precipitable_water', 'dhi', 'clearsky_dhi', 'clearsky_ghi',\n",
    "                    'clearsky_dni', 'aod', 'cloud_press_acha','cld_opd_dcomp',\n",
    "                    'cld_reff_dcomp', 'wind_direction','ozone','ssa']\n",
    "    \n",
    "#titles = (f'*{f}*' if f in features else f'{f}' for f in base_features if f is not None)\n",
    "    titles = (f'*{f}*' if f in features else f'{f}' for f in base_features if f is not None)\n",
    "\n",
    "    fig = make_subplots(\n",
    "    rows=5, cols=8,\n",
    "    column_widths=[0.2,0.2,0.2,0.2,0.2,0.2,0.2,0.2],\n",
    "    row_heights=[1,1,1,1,1,],\n",
    "    specs=[\n",
    "           [{\"type\":\"scattergeo\",\"rowspan\":2,\"colspan\":4},None,None,None,{\"type\":\"scattergeo\",\"rowspan\":2,\"colspan\":4},None,None,None],\n",
    "           [None,None,None,None,None,None,None,None],\n",
    "           [{\"type\":\"scattergeo\"},{\"type\":\"scattergeo\"},{\"type\":\"scattergeo\"},{\"type\":\"scattergeo\"},{\"type\":\"scattergeo\"},{\"type\":\"scattergeo\"},{\"type\":\"scattergeo\"},{\"type\":\"scattergeo\"}],\n",
    "           [{\"type\":\"scattergeo\"},{\"type\":\"scattergeo\"},{\"type\":\"scattergeo\"},{\"type\":\"scattergeo\"},{\"type\":\"scattergeo\"},{\"type\":\"scattergeo\"},{\"type\":\"scattergeo\"},{\"type\":\"scattergeo\"}],\n",
    "           [{\"type\":\"scattergeo\"},{\"type\":\"scattergeo\"},{\"type\":\"scattergeo\"},{\"type\":\"scattergeo\"},{\"type\":\"scattergeo\"},{\"type\":\"scattergeo\"},{\"type\":\"scattergeo\"},{\"type\":\"scattergeo\"}]],\n",
    "    subplot_titles=list(titles))\n",
    "\n",
    "    colorbar_x = [0.085+i*(1.0/8+0.003) for i in range(8)]\n",
    "    colorbar_y = [0.92-i*(1.0/5+0.0135) for i in range(5)]\n",
    "\n",
    "    for i,field in enumerate(base_features):\n",
    "        if field is None:\n",
    "            pass\n",
    "        else:\n",
    "            cbar_title = feature_units[i]\n",
    "            row_idx = i//8\n",
    "            col_idx = i%8\n",
    "            #print(row_idx,col_idx)\n",
    "            if row_idx==0:\n",
    "                if col_idx==0:\n",
    "                    fig = add_subplot(fig,field,row_idx+1,col_idx+1,0.335,0.85,clen=0.25,cbar_title=cbar_title)\n",
    "                if col_idx==4:\n",
    "                    fig = add_subplot(fig,field,row_idx+1,col_idx+1,0.85,0.85,clen=0.25,cbar_title=cbar_title)    \n",
    "            else:        \n",
    "                fig = add_subplot(fig,field,row_idx+1,col_idx+1,colorbar_x[col_idx],colorbar_y[row_idx],clen=0.14,cbar_title=cbar_title)\n",
    "\n",
    "    fig.update_geos(scope='usa')\n",
    "    fig.update_layout(\n",
    "    margin=dict(l=20, r=20, t=20, b=20),\n",
    "    paper_bgcolor=\"LightSteelBlue\",\n",
    "    height=675, width=1800,\n",
    "    )\n",
    "    for n,i in enumerate(fig['layout']['annotations']):\n",
    "        if '*' in i['text']:# in features:\n",
    "            i['font'] = dict(size=14,color='red')\n",
    "        else:\n",
    "            i['font'] = dict(size=14)       \n",
    "    return fig"
   ]
  },
  {
   "cell_type": "code",
   "execution_count": 186,
   "id": "04e5e6d6-d4e6-4859-b060-fb89a7216225",
   "metadata": {},
   "outputs": [
    {
     "data": {
      "text/html": [
       "<iframe\n",
       "    scrolling=\"no\"\n",
       "    width=\"1820px\"\n",
       "    height=\"695\"\n",
       "    src=\"iframe_figures/figure_186.html\"\n",
       "    frameborder=\"0\"\n",
       "    allowfullscreen\n",
       "></iframe>\n"
      ]
     },
     "metadata": {},
     "output_type": "display_data"
    }
   ],
   "source": [
    "generate_figure(df,features,n_clusters=5,eps=0.1).show()"
   ]
  },
  {
   "cell_type": "code",
   "execution_count": 188,
   "id": "7d386bfa-760d-4444-ab2b-43d9dc2a5059",
   "metadata": {},
   "outputs": [
    {
     "name": "stdout",
     "output_type": "stream",
     "text": [
      "Dash is running on http://127.0.0.1:8050/\n",
      "\n",
      "Dash is running on http://127.0.0.1:8050/\n",
      "\n",
      "Dash is running on http://127.0.0.1:8050/\n",
      "\n",
      "Dash is running on http://127.0.0.1:8050/\n",
      "\n",
      "Dash is running on http://127.0.0.1:8050/\n",
      "\n",
      "Dash is running on http://127.0.0.1:8050/\n",
      "\n",
      "Dash is running on http://127.0.0.1:8050/\n",
      "\n",
      "Dash is running on http://127.0.0.1:8050/\n",
      "\n",
      "Dash is running on http://127.0.0.1:8050/\n",
      "\n",
      "Dash is running on http://127.0.0.1:8050/\n",
      "\n",
      "Dash is running on http://127.0.0.1:8050/\n",
      "\n",
      "Dash is running on http://127.0.0.1:8050/\n",
      "\n",
      "Dash is running on http://127.0.0.1:8050/\n",
      "\n",
      "Dash is running on http://127.0.0.1:8050/\n",
      "\n",
      "Dash is running on http://127.0.0.1:8050/\n",
      "\n",
      "Dash is running on http://127.0.0.1:8050/\n",
      "\n",
      "Dash is running on http://127.0.0.1:8050/\n",
      "\n",
      "Dash is running on http://127.0.0.1:8050/\n",
      "\n",
      "Dash is running on http://127.0.0.1:8050/\n",
      "\n",
      "Dash is running on http://127.0.0.1:8050/\n",
      "\n",
      "Dash is running on http://127.0.0.1:8050/\n",
      "\n",
      "Dash is running on http://127.0.0.1:8050/\n",
      "\n",
      "Dash is running on http://127.0.0.1:8050/\n",
      "\n",
      "Dash is running on http://127.0.0.1:8050/\n",
      "\n",
      "Dash is running on http://127.0.0.1:8050/\n",
      "\n",
      "Dash is running on http://127.0.0.1:8050/\n",
      "\n",
      "Dash is running on http://127.0.0.1:8050/\n",
      "\n",
      "Dash is running on http://127.0.0.1:8050/\n",
      "\n",
      "Dash is running on http://127.0.0.1:8050/\n",
      "\n",
      "Dash is running on http://127.0.0.1:8050/\n",
      "\n",
      "Dash is running on http://127.0.0.1:8050/\n",
      "\n",
      "Dash is running on http://127.0.0.1:8050/\n",
      "\n",
      "Dash is running on http://127.0.0.1:8050/\n",
      "\n",
      "Dash is running on http://127.0.0.1:8050/\n",
      "\n",
      "Dash is running on http://127.0.0.1:8050/\n",
      "\n",
      "Dash is running on http://127.0.0.1:8050/\n",
      "\n",
      "Dash is running on http://127.0.0.1:8050/\n",
      "\n",
      "Dash is running on http://127.0.0.1:8050/\n",
      "\n",
      "Dash is running on http://127.0.0.1:8050/\n",
      "\n",
      "Dash is running on http://127.0.0.1:8050/\n",
      "\n",
      "Dash is running on http://127.0.0.1:8050/\n",
      "\n",
      "Dash is running on http://127.0.0.1:8050/\n",
      "\n",
      "Dash is running on http://127.0.0.1:8050/\n",
      "\n",
      "Dash is running on http://127.0.0.1:8050/\n",
      "\n",
      "Dash is running on http://127.0.0.1:8050/\n",
      "\n",
      "Dash is running on http://127.0.0.1:8050/\n",
      "\n",
      "Dash is running on http://127.0.0.1:8050/\n",
      "\n",
      "Dash is running on http://127.0.0.1:8050/\n",
      "\n",
      "Dash is running on http://127.0.0.1:8050/\n",
      "\n",
      "Dash is running on http://127.0.0.1:8050/\n",
      "\n",
      "Dash is running on http://127.0.0.1:8050/\n",
      "\n",
      "Dash is running on http://127.0.0.1:8050/\n",
      "\n",
      "Dash is running on http://127.0.0.1:8050/\n",
      "\n",
      "Dash is running on http://127.0.0.1:8050/\n",
      "\n",
      "Dash is running on http://127.0.0.1:8050/\n",
      "\n",
      "Dash is running on http://127.0.0.1:8050/\n",
      "\n",
      "Dash is running on http://127.0.0.1:8050/\n",
      "\n",
      "Dash is running on http://127.0.0.1:8050/\n",
      "\n",
      "Dash is running on http://127.0.0.1:8050/\n",
      "\n",
      "Dash is running on http://127.0.0.1:8050/\n",
      "\n",
      "Dash is running on http://127.0.0.1:8050/\n",
      "\n"
     ]
    },
    {
     "name": "stderr",
     "output_type": "stream",
     "text": [
      "INFO:__main__:Dash is running on http://127.0.0.1:8050/\n",
      "\n"
     ]
    },
    {
     "name": "stdout",
     "output_type": "stream",
     "text": [
      " * Serving Flask app '__main__' (lazy loading)\n",
      " * Environment: production\n",
      "\u001b[31m   WARNING: This is a development server. Do not use it in a production deployment.\u001b[0m\n",
      "\u001b[2m   Use a production WSGI server instead.\u001b[0m\n",
      " * Debug mode: on\n"
     ]
    }
   ],
   "source": [
    "import plotly.graph_objects as go # or plotly.express as px\n",
    "import dash\n",
    "import dash_core_components as dcc\n",
    "import dash_html_components as html\n",
    "from dash.dependencies import Input, Output\n",
    "\n",
    "\n",
    "base_features = ['elevation', 'landcover', 'surface_pressure',\n",
    "                 'ghi', 'air_temperature', 'dew_point', 'surface_albedo', 'cloud_type',\n",
    "                 'wind_speed', 'relative_humidity', 'dni', 'solar_zenith_angle',\n",
    "                 'total_precipitable_water', 'dhi', 'clearsky_dhi', 'clearsky_ghi',\n",
    "                 'clearsky_dni', 'aod', 'cloud_press_acha','wind_direction','ozone','ssa']\n",
    "\n",
    "dropdown_options = []\n",
    "for f in base_features:\n",
    "    dropdown_options.append({'label':f,'value':f})\n",
    "\n",
    "app = dash.Dash()\n",
    "\n",
    "app.layout = html.Div([html.H6('NSRDB Clustering',style={'width':'100%', 'textAlign': 'center','font-size': '25px',\"padding-top\": \"1px\"}), \n",
    "    html.Div([\n",
    "        \"DBSCAN eps: \",\n",
    "        dcc.Input(id='eps', value=None, type='text')\n",
    "    ],style={'width': '49%', 'display': 'inline-block','textAlign':'center','height':'10px'}),\n",
    "    html.Div([\n",
    "        \"KMeans n_clusters: \",\n",
    "        dcc.Input(id='n_clusters', value=None, type='text')\n",
    "    ],style={'width': '49%', 'display': 'inline-block','textAlign':'center'}),\n",
    "    #html.H6('Feature Selection:',style={'width':'100%', 'textAlign': 'center','font-size': '26px'}),\n",
    "    dcc.Dropdown(id='features',\n",
    "    options=dropdown_options,\n",
    "    value=['ghi'],\n",
    "    multi=True,\n",
    "    style={'width':'1800px', 'textAlign': 'center'}),\n",
    "    html.Div([dcc.Graph(id='my-output')],style={'width':'90%','textAlign': 'center'}),\n",
    "    dcc.Interval(\n",
    "            id = 'graph-update',\n",
    "            interval = 1000,\n",
    "            n_intervals = 0\n",
    "        )\n",
    "\n",
    "],style={\"width\": \"1800px\",\n",
    "         \"height\": \"900px\",\n",
    "         \"display\": \"inline-block\",\n",
    "         \"border\": \"3px #5c5c5c solid\",\n",
    "         \"padding-top\": \"1px\",\n",
    "         \"padding-left\": \"1px\",\n",
    "         \"overflow\": \"hidden\"})\n",
    "\n",
    "\n",
    "@app.callback(\n",
    "    Output(component_id='my-output', component_property='figure'),\n",
    "    [Input(component_id='eps', component_property='value'),\n",
    "     Input(component_id='n_clusters', component_property='value'),\n",
    "     Input(component_id='features', component_property='value')]\n",
    ")\n",
    "def update_output_div(eps,n_clusters,features):\n",
    "    if eps is not None:\n",
    "        try:\n",
    "            eps = float(eps)\n",
    "            if eps <= 0.0:\n",
    "                eps = None\n",
    "        except:\n",
    "            eps = None\n",
    "    if n_clusters is not None:\n",
    "        try:\n",
    "            n_clusters = int(n_clusters)\n",
    "            if n_clusters <= 1:\n",
    "                n_clusters = None\n",
    "        except:\n",
    "            n_clusters = None\n",
    "    fig = generate_figure(df,features,n_clusters=n_clusters,eps=eps)\n",
    "    return fig\n",
    "\n",
    "\n",
    "#if __name__ == '__main__':\n",
    "#    app.run_server(debug=True)\n",
    "\n",
    "\n",
    "app.run_server(debug=True, use_reloader=False)"
   ]
  },
  {
   "cell_type": "code",
   "execution_count": 417,
   "id": "a7d6f746-2997-40fa-8f91-9a73e3d0f7df",
   "metadata": {},
   "outputs": [],
   "source": [
    "pio.write_image(fig,'clusters_3.png')"
   ]
  },
  {
   "cell_type": "code",
   "execution_count": 179,
   "id": "0677426a-ce00-4b18-bea9-1a13b0713d26",
   "metadata": {},
   "outputs": [
    {
     "data": {
      "text/html": [
       "<div>\n",
       "<style scoped>\n",
       "    .dataframe tbody tr th:only-of-type {\n",
       "        vertical-align: middle;\n",
       "    }\n",
       "\n",
       "    .dataframe tbody tr th {\n",
       "        vertical-align: top;\n",
       "    }\n",
       "\n",
       "    .dataframe thead th {\n",
       "        text-align: right;\n",
       "    }\n",
       "</style>\n",
       "<table border=\"1\" class=\"dataframe\">\n",
       "  <thead>\n",
       "    <tr style=\"text-align: right;\">\n",
       "      <th></th>\n",
       "      <th>longitude</th>\n",
       "      <th>latitude</th>\n",
       "      <th>elevation</th>\n",
       "      <th>landcover</th>\n",
       "      <th>surface_pressure</th>\n",
       "      <th>ghi</th>\n",
       "      <th>air_temperature</th>\n",
       "      <th>dew_point</th>\n",
       "      <th>surface_albedo</th>\n",
       "      <th>cloud_type</th>\n",
       "      <th>...</th>\n",
       "      <th>dni</th>\n",
       "      <th>solar_zenith_angle</th>\n",
       "      <th>total_precipitable_water</th>\n",
       "      <th>dhi</th>\n",
       "      <th>clearsky_dhi</th>\n",
       "      <th>clearsky_ghi</th>\n",
       "      <th>clearsky_dni</th>\n",
       "      <th>aod</th>\n",
       "      <th>cloud_press_acha</th>\n",
       "      <th>kmeans_cluster</th>\n",
       "    </tr>\n",
       "    <tr>\n",
       "      <th>dbscan_cluster</th>\n",
       "      <th></th>\n",
       "      <th></th>\n",
       "      <th></th>\n",
       "      <th></th>\n",
       "      <th></th>\n",
       "      <th></th>\n",
       "      <th></th>\n",
       "      <th></th>\n",
       "      <th></th>\n",
       "      <th></th>\n",
       "      <th></th>\n",
       "      <th></th>\n",
       "      <th></th>\n",
       "      <th></th>\n",
       "      <th></th>\n",
       "      <th></th>\n",
       "      <th></th>\n",
       "      <th></th>\n",
       "      <th></th>\n",
       "      <th></th>\n",
       "      <th></th>\n",
       "    </tr>\n",
       "  </thead>\n",
       "  <tbody>\n",
       "    <tr>\n",
       "      <th>-1</th>\n",
       "      <td>-142.355377</td>\n",
       "      <td>52.803848</td>\n",
       "      <td>523.984863</td>\n",
       "      <td>163.076923</td>\n",
       "      <td>965.717949</td>\n",
       "      <td>99.452991</td>\n",
       "      <td>5.454274</td>\n",
       "      <td>2.020940</td>\n",
       "      <td>0.335983</td>\n",
       "      <td>5.085470</td>\n",
       "      <td>...</td>\n",
       "      <td>85.935897</td>\n",
       "      <td>90.132051</td>\n",
       "      <td>1.509402</td>\n",
       "      <td>57.576923</td>\n",
       "      <td>33.239316</td>\n",
       "      <td>186.470085</td>\n",
       "      <td>318.858974</td>\n",
       "      <td>0.068551</td>\n",
       "      <td>195.542735</td>\n",
       "      <td>0.923077</td>\n",
       "    </tr>\n",
       "    <tr>\n",
       "      <th>0</th>\n",
       "      <td>-98.796043</td>\n",
       "      <td>39.398140</td>\n",
       "      <td>788.276245</td>\n",
       "      <td>84.961240</td>\n",
       "      <td>928.913867</td>\n",
       "      <td>172.840762</td>\n",
       "      <td>11.189976</td>\n",
       "      <td>4.027918</td>\n",
       "      <td>0.237518</td>\n",
       "      <td>3.295758</td>\n",
       "      <td>...</td>\n",
       "      <td>209.731804</td>\n",
       "      <td>90.180590</td>\n",
       "      <td>1.815256</td>\n",
       "      <td>58.111434</td>\n",
       "      <td>39.439492</td>\n",
       "      <td>236.275947</td>\n",
       "      <td>358.876077</td>\n",
       "      <td>0.106338</td>\n",
       "      <td>108.163114</td>\n",
       "      <td>0.575581</td>\n",
       "    </tr>\n",
       "    <tr>\n",
       "      <th>1</th>\n",
       "      <td>-118.933334</td>\n",
       "      <td>36.136665</td>\n",
       "      <td>210.293335</td>\n",
       "      <td>31.333333</td>\n",
       "      <td>986.879630</td>\n",
       "      <td>223.379630</td>\n",
       "      <td>20.475000</td>\n",
       "      <td>1.914815</td>\n",
       "      <td>0.197685</td>\n",
       "      <td>1.694444</td>\n",
       "      <td>...</td>\n",
       "      <td>304.157407</td>\n",
       "      <td>90.166481</td>\n",
       "      <td>1.489815</td>\n",
       "      <td>56.435185</td>\n",
       "      <td>44.907407</td>\n",
       "      <td>251.759259</td>\n",
       "      <td>374.796296</td>\n",
       "      <td>0.136138</td>\n",
       "      <td>52.101852</td>\n",
       "      <td>0.333333</td>\n",
       "    </tr>\n",
       "    <tr>\n",
       "      <th>2</th>\n",
       "      <td>-154.596664</td>\n",
       "      <td>58.176666</td>\n",
       "      <td>214.665253</td>\n",
       "      <td>177.500000</td>\n",
       "      <td>991.101852</td>\n",
       "      <td>103.865741</td>\n",
       "      <td>2.791667</td>\n",
       "      <td>0.701389</td>\n",
       "      <td>0.228241</td>\n",
       "      <td>5.365741</td>\n",
       "      <td>...</td>\n",
       "      <td>106.763889</td>\n",
       "      <td>90.165833</td>\n",
       "      <td>1.260185</td>\n",
       "      <td>57.481481</td>\n",
       "      <td>32.787037</td>\n",
       "      <td>175.421296</td>\n",
       "      <td>332.328704</td>\n",
       "      <td>0.064558</td>\n",
       "      <td>224.611111</td>\n",
       "      <td>1.000000</td>\n",
       "    </tr>\n",
       "  </tbody>\n",
       "</table>\n",
       "<p>4 rows × 22 columns</p>\n",
       "</div>"
      ],
      "text/plain": [
       "                 longitude   latitude   elevation   landcover  \\\n",
       "dbscan_cluster                                                  \n",
       "-1             -142.355377  52.803848  523.984863  163.076923   \n",
       " 0              -98.796043  39.398140  788.276245   84.961240   \n",
       " 1             -118.933334  36.136665  210.293335   31.333333   \n",
       " 2             -154.596664  58.176666  214.665253  177.500000   \n",
       "\n",
       "                surface_pressure         ghi  air_temperature  dew_point  \\\n",
       "dbscan_cluster                                                             \n",
       "-1                    965.717949   99.452991         5.454274   2.020940   \n",
       " 0                    928.913867  172.840762        11.189976   4.027918   \n",
       " 1                    986.879630  223.379630        20.475000   1.914815   \n",
       " 2                    991.101852  103.865741         2.791667   0.701389   \n",
       "\n",
       "                surface_albedo  cloud_type  ...         dni  \\\n",
       "dbscan_cluster                              ...               \n",
       "-1                    0.335983    5.085470  ...   85.935897   \n",
       " 0                    0.237518    3.295758  ...  209.731804   \n",
       " 1                    0.197685    1.694444  ...  304.157407   \n",
       " 2                    0.228241    5.365741  ...  106.763889   \n",
       "\n",
       "                solar_zenith_angle  total_precipitable_water        dhi  \\\n",
       "dbscan_cluster                                                            \n",
       "-1                       90.132051                  1.509402  57.576923   \n",
       " 0                       90.180590                  1.815256  58.111434   \n",
       " 1                       90.166481                  1.489815  56.435185   \n",
       " 2                       90.165833                  1.260185  57.481481   \n",
       "\n",
       "                clearsky_dhi  clearsky_ghi  clearsky_dni       aod  \\\n",
       "dbscan_cluster                                                       \n",
       "-1                 33.239316    186.470085    318.858974  0.068551   \n",
       " 0                 39.439492    236.275947    358.876077  0.106338   \n",
       " 1                 44.907407    251.759259    374.796296  0.136138   \n",
       " 2                 32.787037    175.421296    332.328704  0.064558   \n",
       "\n",
       "                cloud_press_acha  kmeans_cluster  \n",
       "dbscan_cluster                                    \n",
       "-1                    195.542735        0.923077  \n",
       " 0                    108.163114        0.575581  \n",
       " 1                     52.101852        0.333333  \n",
       " 2                    224.611111        1.000000  \n",
       "\n",
       "[4 rows x 22 columns]"
      ]
     },
     "execution_count": 179,
     "metadata": {},
     "output_type": "execute_result"
    }
   ],
   "source": [
    "df.groupby(['dbscan_cluster']).mean()"
   ]
  },
  {
   "cell_type": "code",
   "execution_count": 177,
   "id": "33ea9a08-1439-4025-84cc-082757b3ec27",
   "metadata": {},
   "outputs": [
    {
     "data": {
      "text/html": [
       "<div>\n",
       "<style scoped>\n",
       "    .dataframe tbody tr th:only-of-type {\n",
       "        vertical-align: middle;\n",
       "    }\n",
       "\n",
       "    .dataframe tbody tr th {\n",
       "        vertical-align: top;\n",
       "    }\n",
       "\n",
       "    .dataframe thead th {\n",
       "        text-align: right;\n",
       "    }\n",
       "</style>\n",
       "<table border=\"1\" class=\"dataframe\">\n",
       "  <thead>\n",
       "    <tr style=\"text-align: right;\">\n",
       "      <th></th>\n",
       "      <th>longitude</th>\n",
       "      <th>latitude</th>\n",
       "      <th>elevation</th>\n",
       "      <th>landcover</th>\n",
       "      <th>surface_pressure</th>\n",
       "      <th>ghi</th>\n",
       "      <th>air_temperature</th>\n",
       "      <th>dew_point</th>\n",
       "      <th>surface_albedo</th>\n",
       "      <th>cloud_type</th>\n",
       "      <th>...</th>\n",
       "      <th>solar_zenith_angle</th>\n",
       "      <th>total_precipitable_water</th>\n",
       "      <th>dhi</th>\n",
       "      <th>clearsky_dhi</th>\n",
       "      <th>clearsky_ghi</th>\n",
       "      <th>clearsky_dni</th>\n",
       "      <th>aod</th>\n",
       "      <th>cloud_press_acha</th>\n",
       "      <th>dbscan_cluster</th>\n",
       "      <th>kmeans_cluster</th>\n",
       "    </tr>\n",
       "  </thead>\n",
       "  <tbody>\n",
       "    <tr>\n",
       "      <th>14294</th>\n",
       "      <td>-155.660004</td>\n",
       "      <td>18.930000</td>\n",
       "      <td>66.263161</td>\n",
       "      <td>140</td>\n",
       "      <td>1044.833333</td>\n",
       "      <td>233.722222</td>\n",
       "      <td>27.433333</td>\n",
       "      <td>21.761111</td>\n",
       "      <td>0.155000</td>\n",
       "      <td>3.055556</td>\n",
       "      <td>...</td>\n",
       "      <td>90.030000</td>\n",
       "      <td>4.222222</td>\n",
       "      <td>75.722222</td>\n",
       "      <td>46.166667</td>\n",
       "      <td>272.222222</td>\n",
       "      <td>326.555556</td>\n",
       "      <td>0.093228</td>\n",
       "      <td>60.055556</td>\n",
       "      <td>-1</td>\n",
       "      <td>1</td>\n",
       "    </tr>\n",
       "    <tr>\n",
       "      <th>59813</th>\n",
       "      <td>-105.339996</td>\n",
       "      <td>31.090000</td>\n",
       "      <td>1390.359985</td>\n",
       "      <td>130</td>\n",
       "      <td>872.888889</td>\n",
       "      <td>201.666667</td>\n",
       "      <td>17.227778</td>\n",
       "      <td>1.733333</td>\n",
       "      <td>0.213889</td>\n",
       "      <td>2.111111</td>\n",
       "      <td>...</td>\n",
       "      <td>90.137778</td>\n",
       "      <td>1.738889</td>\n",
       "      <td>45.611111</td>\n",
       "      <td>33.777778</td>\n",
       "      <td>272.055556</td>\n",
       "      <td>391.444444</td>\n",
       "      <td>0.067278</td>\n",
       "      <td>108.777778</td>\n",
       "      <td>0</td>\n",
       "      <td>0</td>\n",
       "    </tr>\n",
       "    <tr>\n",
       "      <th>63693</th>\n",
       "      <td>-111.980003</td>\n",
       "      <td>31.650000</td>\n",
       "      <td>738.039978</td>\n",
       "      <td>130</td>\n",
       "      <td>930.944444</td>\n",
       "      <td>254.833333</td>\n",
       "      <td>21.233333</td>\n",
       "      <td>5.177778</td>\n",
       "      <td>0.223333</td>\n",
       "      <td>2.000000</td>\n",
       "      <td>...</td>\n",
       "      <td>90.143333</td>\n",
       "      <td>1.761111</td>\n",
       "      <td>60.055556</td>\n",
       "      <td>40.277778</td>\n",
       "      <td>272.055556</td>\n",
       "      <td>398.833333</td>\n",
       "      <td>0.071472</td>\n",
       "      <td>45.166667</td>\n",
       "      <td>0</td>\n",
       "      <td>0</td>\n",
       "    </tr>\n",
       "    <tr>\n",
       "      <th>65542</th>\n",
       "      <td>-110.099998</td>\n",
       "      <td>31.889999</td>\n",
       "      <td>1363.650024</td>\n",
       "      <td>130</td>\n",
       "      <td>859.888889</td>\n",
       "      <td>241.888889</td>\n",
       "      <td>16.827778</td>\n",
       "      <td>3.172222</td>\n",
       "      <td>0.169444</td>\n",
       "      <td>2.333333</td>\n",
       "      <td>...</td>\n",
       "      <td>90.145556</td>\n",
       "      <td>1.600000</td>\n",
       "      <td>44.888889</td>\n",
       "      <td>33.944444</td>\n",
       "      <td>273.277778</td>\n",
       "      <td>407.166667</td>\n",
       "      <td>0.062811</td>\n",
       "      <td>33.055556</td>\n",
       "      <td>0</td>\n",
       "      <td>0</td>\n",
       "    </tr>\n",
       "    <tr>\n",
       "      <th>67029</th>\n",
       "      <td>-111.339996</td>\n",
       "      <td>32.090000</td>\n",
       "      <td>775.239990</td>\n",
       "      <td>130</td>\n",
       "      <td>924.500000</td>\n",
       "      <td>225.722222</td>\n",
       "      <td>21.283333</td>\n",
       "      <td>4.444444</td>\n",
       "      <td>0.183333</td>\n",
       "      <td>2.277778</td>\n",
       "      <td>...</td>\n",
       "      <td>90.144444</td>\n",
       "      <td>1.800000</td>\n",
       "      <td>60.555556</td>\n",
       "      <td>37.055556</td>\n",
       "      <td>270.555556</td>\n",
       "      <td>401.222222</td>\n",
       "      <td>0.066511</td>\n",
       "      <td>44.277778</td>\n",
       "      <td>0</td>\n",
       "      <td>0</td>\n",
       "    </tr>\n",
       "    <tr>\n",
       "      <th>...</th>\n",
       "      <td>...</td>\n",
       "      <td>...</td>\n",
       "      <td>...</td>\n",
       "      <td>...</td>\n",
       "      <td>...</td>\n",
       "      <td>...</td>\n",
       "      <td>...</td>\n",
       "      <td>...</td>\n",
       "      <td>...</td>\n",
       "      <td>...</td>\n",
       "      <td>...</td>\n",
       "      <td>...</td>\n",
       "      <td>...</td>\n",
       "      <td>...</td>\n",
       "      <td>...</td>\n",
       "      <td>...</td>\n",
       "      <td>...</td>\n",
       "      <td>...</td>\n",
       "      <td>...</td>\n",
       "      <td>...</td>\n",
       "      <td>...</td>\n",
       "    </tr>\n",
       "    <tr>\n",
       "      <th>1380886</th>\n",
       "      <td>-69.820000</td>\n",
       "      <td>44.090000</td>\n",
       "      <td>41.439999</td>\n",
       "      <td>50</td>\n",
       "      <td>1015.611111</td>\n",
       "      <td>156.777778</td>\n",
       "      <td>7.477778</td>\n",
       "      <td>4.194444</td>\n",
       "      <td>0.329444</td>\n",
       "      <td>3.333333</td>\n",
       "      <td>...</td>\n",
       "      <td>90.228889</td>\n",
       "      <td>1.894444</td>\n",
       "      <td>57.000000</td>\n",
       "      <td>40.888889</td>\n",
       "      <td>217.000000</td>\n",
       "      <td>357.944444</td>\n",
       "      <td>0.094233</td>\n",
       "      <td>84.500000</td>\n",
       "      <td>0</td>\n",
       "      <td>1</td>\n",
       "    </tr>\n",
       "    <tr>\n",
       "      <th>1396429</th>\n",
       "      <td>-69.339996</td>\n",
       "      <td>45.169998</td>\n",
       "      <td>170.360001</td>\n",
       "      <td>50</td>\n",
       "      <td>1000.944444</td>\n",
       "      <td>159.277778</td>\n",
       "      <td>5.388889</td>\n",
       "      <td>2.161111</td>\n",
       "      <td>0.383333</td>\n",
       "      <td>4.444444</td>\n",
       "      <td>...</td>\n",
       "      <td>90.229444</td>\n",
       "      <td>1.577778</td>\n",
       "      <td>68.722222</td>\n",
       "      <td>38.388889</td>\n",
       "      <td>216.055556</td>\n",
       "      <td>364.555556</td>\n",
       "      <td>0.085522</td>\n",
       "      <td>176.277778</td>\n",
       "      <td>0</td>\n",
       "      <td>1</td>\n",
       "    </tr>\n",
       "    <tr>\n",
       "      <th>1412545</th>\n",
       "      <td>-68.820000</td>\n",
       "      <td>44.810001</td>\n",
       "      <td>50.840000</td>\n",
       "      <td>50</td>\n",
       "      <td>1013.611111</td>\n",
       "      <td>164.277778</td>\n",
       "      <td>6.338889</td>\n",
       "      <td>3.061111</td>\n",
       "      <td>0.357778</td>\n",
       "      <td>4.555556</td>\n",
       "      <td>...</td>\n",
       "      <td>90.228889</td>\n",
       "      <td>1.672222</td>\n",
       "      <td>70.611111</td>\n",
       "      <td>39.388889</td>\n",
       "      <td>216.611111</td>\n",
       "      <td>362.888889</td>\n",
       "      <td>0.092872</td>\n",
       "      <td>154.388889</td>\n",
       "      <td>0</td>\n",
       "      <td>1</td>\n",
       "    </tr>\n",
       "    <tr>\n",
       "      <th>1428882</th>\n",
       "      <td>-68.300003</td>\n",
       "      <td>45.770000</td>\n",
       "      <td>174.350006</td>\n",
       "      <td>50</td>\n",
       "      <td>997.888889</td>\n",
       "      <td>153.000000</td>\n",
       "      <td>4.388889</td>\n",
       "      <td>1.094444</td>\n",
       "      <td>0.458889</td>\n",
       "      <td>4.388889</td>\n",
       "      <td>...</td>\n",
       "      <td>90.230000</td>\n",
       "      <td>1.461111</td>\n",
       "      <td>64.000000</td>\n",
       "      <td>36.555556</td>\n",
       "      <td>215.833333</td>\n",
       "      <td>371.833333</td>\n",
       "      <td>0.084206</td>\n",
       "      <td>181.222222</td>\n",
       "      <td>0</td>\n",
       "      <td>1</td>\n",
       "    </tr>\n",
       "    <tr>\n",
       "      <th>1449490</th>\n",
       "      <td>-67.580002</td>\n",
       "      <td>44.970001</td>\n",
       "      <td>58.080002</td>\n",
       "      <td>50</td>\n",
       "      <td>1012.722222</td>\n",
       "      <td>147.333333</td>\n",
       "      <td>6.205556</td>\n",
       "      <td>3.077778</td>\n",
       "      <td>0.362778</td>\n",
       "      <td>4.888889</td>\n",
       "      <td>...</td>\n",
       "      <td>90.230556</td>\n",
       "      <td>1.633333</td>\n",
       "      <td>68.833333</td>\n",
       "      <td>37.444444</td>\n",
       "      <td>217.222222</td>\n",
       "      <td>368.222222</td>\n",
       "      <td>0.087256</td>\n",
       "      <td>122.611111</td>\n",
       "      <td>0</td>\n",
       "      <td>1</td>\n",
       "    </tr>\n",
       "  </tbody>\n",
       "</table>\n",
       "<p>547 rows × 23 columns</p>\n",
       "</div>"
      ],
      "text/plain": [
       "          longitude   latitude    elevation  landcover  surface_pressure  \\\n",
       "14294   -155.660004  18.930000    66.263161        140       1044.833333   \n",
       "59813   -105.339996  31.090000  1390.359985        130        872.888889   \n",
       "63693   -111.980003  31.650000   738.039978        130        930.944444   \n",
       "65542   -110.099998  31.889999  1363.650024        130        859.888889   \n",
       "67029   -111.339996  32.090000   775.239990        130        924.500000   \n",
       "...             ...        ...          ...        ...               ...   \n",
       "1380886  -69.820000  44.090000    41.439999         50       1015.611111   \n",
       "1396429  -69.339996  45.169998   170.360001         50       1000.944444   \n",
       "1412545  -68.820000  44.810001    50.840000         50       1013.611111   \n",
       "1428882  -68.300003  45.770000   174.350006         50        997.888889   \n",
       "1449490  -67.580002  44.970001    58.080002         50       1012.722222   \n",
       "\n",
       "                ghi  air_temperature  dew_point  surface_albedo  cloud_type  \\\n",
       "14294    233.722222        27.433333  21.761111        0.155000    3.055556   \n",
       "59813    201.666667        17.227778   1.733333        0.213889    2.111111   \n",
       "63693    254.833333        21.233333   5.177778        0.223333    2.000000   \n",
       "65542    241.888889        16.827778   3.172222        0.169444    2.333333   \n",
       "67029    225.722222        21.283333   4.444444        0.183333    2.277778   \n",
       "...             ...              ...        ...             ...         ...   \n",
       "1380886  156.777778         7.477778   4.194444        0.329444    3.333333   \n",
       "1396429  159.277778         5.388889   2.161111        0.383333    4.444444   \n",
       "1412545  164.277778         6.338889   3.061111        0.357778    4.555556   \n",
       "1428882  153.000000         4.388889   1.094444        0.458889    4.388889   \n",
       "1449490  147.333333         6.205556   3.077778        0.362778    4.888889   \n",
       "\n",
       "         ...  solar_zenith_angle  total_precipitable_water        dhi  \\\n",
       "14294    ...           90.030000                  4.222222  75.722222   \n",
       "59813    ...           90.137778                  1.738889  45.611111   \n",
       "63693    ...           90.143333                  1.761111  60.055556   \n",
       "65542    ...           90.145556                  1.600000  44.888889   \n",
       "67029    ...           90.144444                  1.800000  60.555556   \n",
       "...      ...                 ...                       ...        ...   \n",
       "1380886  ...           90.228889                  1.894444  57.000000   \n",
       "1396429  ...           90.229444                  1.577778  68.722222   \n",
       "1412545  ...           90.228889                  1.672222  70.611111   \n",
       "1428882  ...           90.230000                  1.461111  64.000000   \n",
       "1449490  ...           90.230556                  1.633333  68.833333   \n",
       "\n",
       "         clearsky_dhi  clearsky_ghi  clearsky_dni       aod  cloud_press_acha  \\\n",
       "14294       46.166667    272.222222    326.555556  0.093228         60.055556   \n",
       "59813       33.777778    272.055556    391.444444  0.067278        108.777778   \n",
       "63693       40.277778    272.055556    398.833333  0.071472         45.166667   \n",
       "65542       33.944444    273.277778    407.166667  0.062811         33.055556   \n",
       "67029       37.055556    270.555556    401.222222  0.066511         44.277778   \n",
       "...               ...           ...           ...       ...               ...   \n",
       "1380886     40.888889    217.000000    357.944444  0.094233         84.500000   \n",
       "1396429     38.388889    216.055556    364.555556  0.085522        176.277778   \n",
       "1412545     39.388889    216.611111    362.888889  0.092872        154.388889   \n",
       "1428882     36.555556    215.833333    371.833333  0.084206        181.222222   \n",
       "1449490     37.444444    217.222222    368.222222  0.087256        122.611111   \n",
       "\n",
       "         dbscan_cluster  kmeans_cluster  \n",
       "14294                -1               1  \n",
       "59813                 0               0  \n",
       "63693                 0               0  \n",
       "65542                 0               0  \n",
       "67029                 0               0  \n",
       "...                 ...             ...  \n",
       "1380886               0               1  \n",
       "1396429               0               1  \n",
       "1412545               0               1  \n",
       "1428882               0               1  \n",
       "1449490               0               1  \n",
       "\n",
       "[547 rows x 23 columns]"
      ]
     },
     "execution_count": 177,
     "metadata": {},
     "output_type": "execute_result"
    }
   ],
   "source": [
    "df.groupby(['kmeans_cluster']).mean()"
   ]
  },
  {
   "cell_type": "code",
   "execution_count": 447,
   "id": "8dafdb87-c3f9-4fa5-b0cd-91a6fc18eeac",
   "metadata": {},
   "outputs": [
    {
     "data": {
      "text/html": [
       "<iframe\n",
       "    scrolling=\"no\"\n",
       "    width=\"1120px\"\n",
       "    height=\"820\"\n",
       "    src=\"iframe_figures/figure_447.html\"\n",
       "    frameborder=\"0\"\n",
       "    allowfullscreen\n",
       "></iframe>\n"
      ]
     },
     "metadata": {},
     "output_type": "display_data"
    }
   ],
   "source": [
    "fig = go.Figure(go.Scattergeo(\n",
    "        lon = df['longitude'],\n",
    "        lat = df['latitude'],\n",
    "        text = get_corrs(df,features=features),\n",
    "        mode = 'markers',\n",
    "        marker_color = get_corrs(df,features=features),\n",
    "        marker = dict(colorscale='inferno',colorbar=dict(x=1.0,y=0.5,len=0.6)),\n",
    "        showlegend=False,\n",
    "        ))\n",
    "\n",
    "fig.update_geos(scope='usa')\n",
    "fig.update_layout(\n",
    "    title={\n",
    "        'text': 'Correlations with NREL',\n",
    "        'y':0.9,\n",
    "        'x':0.5},\n",
    "    title_font_size=40,\n",
    "    margin=dict(l=20, r=20, t=40, b=5),\n",
    "    paper_bgcolor=\"LightSteelBlue\",\n",
    "    height=800, width=1100,\n",
    ")\n",
    "fig.show()"
   ]
  },
  {
   "cell_type": "code",
   "execution_count": 448,
   "id": "5c104051-eb98-440e-8fe0-0f0d8d254582",
   "metadata": {},
   "outputs": [],
   "source": [
    "pio.write_image(fig,'correlations_1.png')"
   ]
  },
  {
   "cell_type": "code",
   "execution_count": null,
   "id": "c3c03df0-8ee8-4902-b874-1577894bf941",
   "metadata": {},
   "outputs": [],
   "source": []
  }
 ],
 "metadata": {
  "kernelspec": {
   "display_name": "Python 3 (ipykernel)",
   "language": "python",
   "name": "python3"
  },
  "language_info": {
   "codemirror_mode": {
    "name": "ipython",
    "version": 3
   },
   "file_extension": ".py",
   "mimetype": "text/x-python",
   "name": "python",
   "nbconvert_exporter": "python",
   "pygments_lexer": "ipython3",
   "version": "3.9.7"
  }
 },
 "nbformat": 4,
 "nbformat_minor": 5
}
