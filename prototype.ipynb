{
 "cells": [
  {
   "cell_type": "code",
   "execution_count": 194,
   "id": "6293045e-0133-44f9-b779-a05de918c189",
   "metadata": {},
   "outputs": [],
   "source": [
    "import requests\n",
    "import pandas as pd\n",
    "import numpy as np\n",
    "import plotly.express as px\n",
    "import plotly.graph_objects as go\n",
    "from plotly.subplots import make_subplots\n",
    "import plotly.io as pio\n",
    "from sklearn.cluster import KMeans, DBSCAN\n",
    "import h5pyd\n",
    "import matplotlib.pyplot as plt\n",
    "import matplotlib.image as mpimg\n",
    "from scipy.spatial import cKDTree\n",
    "from sklearn import preprocessing\n",
    "pio.renderers.default = 'iframe'\n",
    "%matplotlib inline"
   ]
  },
  {
   "cell_type": "code",
   "execution_count": 5,
   "id": "1e17ff3a-1612-4456-a9a7-57a411102e98",
   "metadata": {},
   "outputs": [],
   "source": [
    "#api_key='SZ95JWD0CuJgihkCYAlQpdOf9yWXPNBLk9XajTI8'\n",
    "api_key='7FO5a8h09cUIaxYyp8XtzCIeEpKexnLrw7d7p83Y'\n",
    "uri_data=f'https://developer.nrel.gov/api/solar/solar_resource/v1.json?api_key={api_key}&lat=40&lon=-105&radius=50&all=1'\n",
    "uri_locations=f'https://developer.nrel.gov/api/solar/data_query/v1.json?api_key={api_key}&lat=40&lon=-105&radius=1000&all=1'"
   ]
  },
  {
   "cell_type": "code",
   "execution_count": 260,
   "id": "660f512a-5baa-4b15-88cf-1fd1c5cfed35",
   "metadata": {},
   "outputs": [],
   "source": [
    "def get_stations(lat=40,lon=-105,radius=1000):\n",
    "    uri_stations=f'https://developer.nrel.gov/api/solar/data_query/v1.json?api_key={api_key}&lat={lat}&lon={lon}&radius={radius}&all=1'\n",
    "    rstations = requests.get(uri_stations)\n",
    "    print(rstations)\n",
    "    stations = rstations.json()['outputs']['all_stations']\n",
    "    return stations\n",
    "   \n",
    "def get_data(lat=40,lon=-105,radius=0):\n",
    "    uri_data=f'https://developer.nrel.gov/api/solar/solar_resource/v1.json?api_key={api_key}&lat={lat}&lon={lon}&radius={radius}&all=1'\n",
    "    rdata = requests.get(uri_data)\n",
    "    data = rdata.json()['outputs']\n",
    "    return data\n",
    "\n",
    "def get_energy(lat=40,lon=-105,radius=0,capacity=4,azimuth=180,tilt=0,array_type=0,module_type=0,losses=10):\n",
    "    uri_energy=f'https://developer.nrel.gov/api/pvwatts/v6.json?api_key={api_key}&lat={lat}&lon={lon}&radius={radius}'\n",
    "    uri_energy+=f'&system_capacity={capacity}&azimuth={azimuth}&tilt={tilt}&array_type={array_type}&module_type={module_type}&losses={losses}'\n",
    "    print(lat,lon)\n",
    "    renergy = requests.get(uri_energy)\n",
    "    data = renergy.json()['outputs']\n",
    "    return data\n",
    "                         \n",
    "def build_ds(lat=40,lon=-105,radius=1000):\n",
    "    ds = pd.DataFrame()\n",
    "    stations = get_stations(lat=lat,lon=lon,radius=radius)\n",
    "    for e in stations:\n",
    "        if e['dataset'] == 'tmy3':\n",
    "            try:\n",
    "                data = get_data(e['lat'],e['lon'])\n",
    "                entry = {'lat':e['lat'],\n",
    "                     'lon':e['lon'],\n",
    "                     'elevation':e['elevation'],\n",
    "                     'avg_dni_annual':data['avg_dni']['annual'],\n",
    "                     'avg_ghi_annual':data['avg_ghi']['annual'],\n",
    "                     'avg_lat_tilt_annual':data['avg_lat_tilt']['annual']}\n",
    "                for m,v in data['avg_dni']['monthly'].items():\n",
    "                    entry[f'avg_dni_{m}'] = v\n",
    "                for m,v in data['avg_ghi']['monthly'].items():\n",
    "                    entry[f'avg_ghi_{m}'] = v\n",
    "                for m,v in data['avg_lat_tilt']['monthly'].items():\n",
    "                    entry[f'avg_lat_tilt_{m}'] = v                        \n",
    "                ds = ds.append(entry, ignore_index=True)\n",
    "            except:\n",
    "                pass\n",
    "    return ds\n",
    "\n",
    "def get_rad_data(timestep,spatial_index):\n",
    "    df['ghi'] = f['ghi'][timestep][spatial_index]/f['ghi'].attrs['psm_scale_factor']\n",
    "    df['dni'] = f['dni'][timestep][spatial_index]/f['dni'].attrs['psm_scale_factor']\n",
    "    df['dhi'] = f['dhi'][timestep][spatial_index]/f['dhi'].attrs['psm_scale_factor']\n",
    "    df['dew_point'] = f['dew_point'][timestep][spatial_index]/f['dew_point'].attrs['psm_scale_factor']\n",
    "    df['solar_zenith_angle'] = f['solar_zenith_angle'][timestep][spatial_index]/f['solar_zenith_angle'].attrs['psm_scale_factor']\n",
    "    df['total_precip'] = f['total_precipitable_water'][timestep][spatial_index]/f['total_precipitable_water'].attrs['psm_scale_factor']\n",
    "    df['air_temp'] = f['air_temperature'][timestep][spatial_index]/f['air_temperature'].attrs['psm_scale_factor']\n",
    "    df['wind_speed'] = f['wind_speed'][timestep][spatial_index]/f['wind_speed'].attrs['psm_scale_factor']\n",
    "    df['relative_humidity'] = f['relative_humidity'][timestep][spatial_index]/f['relative_humidity'].attrs['psm_scale_factor']\n",
    "    df['surface_albedo'] = f['surface_albedo'][timestep][spatial_index]/f['surface_albedo'].attrs['psm_scale_factor']\n",
    "    df['cloud_type'] = f['cloud_type'][timestep][spatial_index]/f['cloud_type'].attrs['psm_scale_factor']\n",
    "    df['clearsky_dhi'] = f['clearsky_dhi'][timestep][spatial_index]/f['clearsky_dhi'].attrs['psm_scale_factor']\n",
    "    df['clearsky_dni'] = f['clearsky_dni'][timestep][spatial_index]/f['clearsky_dni'].attrs['psm_scale_factor']\n",
    "    df['clearsky_ghi'] = f['clearsky_ghi'][timestep][spatial_index]/f['clearsky_ghi'].attrs['psm_scale_factor']\n",
    "    return df\n",
    "\n",
    "def get_mean_rad_data(stride,spatial_index):\n",
    "    df['ghi'] = np.mean(f['ghi'][::stride][spatial_index]/f['ghi'].attrs['psm_scale_factor'],axis=0)\n",
    "    df['dni'] = np.mean(f['dni'][::stride][spatial_index]/f['dni'].attrs['psm_scale_factor'],axis=0)\n",
    "    df['dhi'] = np.mean(f['dhi'][::stride][spatial_index]/f['dhi'].attrs['psm_scale_factor'],axis=0)\n",
    "    df['dew_point'] = np.mean(f['dew_point'][::stride][spatial_index]/f['dew_point'].attrs['psm_scale_factor'],axis=0)\n",
    "    df['solar_zenith_angle'] = np.mean(f['solar_zenith_angle'][::stride][spatial_index]/f['solar_zenith_angle'].attrs['psm_scale_factor'],axis=0)\n",
    "    df['total_precip'] = np.mean(f['total_precipitable_water'][::stride][spatial_index]/f['total_precipitable_water'].attrs['psm_scale_factor'],axis=0)\n",
    "    df['air_temp'] = np.mean(f['air_temperature'][::stride][spatial_index]/f['air_temperature'].attrs['psm_scale_factor'],axis=0)\n",
    "    df['wind_speed'] = np.mean(f['wind_speed'][::stride][spatial_index]/f['wind_speed'].attrs['psm_scale_factor'],axis=0)\n",
    "    df['relative_humidity'] = np.mean(f['relative_humidity'][::stride][spatial_index]/f['relative_humidity'].attrs['psm_scale_factor'],axis=0)\n",
    "    df['surface_albedo'] = np.mean(f['surface_albedo'][::stride][spatial_index]/f['surface_albedo'].attrs['psm_scale_factor'],axis=0)\n",
    "    df['cloud_type'] = np.mean(f['cloud_type'][::stride][spatial_index]/f['cloud_type'].attrs['psm_scale_factor'],axis=0)\n",
    "    df['clearsky_dhi'] = np.mean(f['clearsky_dhi'][::stride][spatial_index]/f['clearsky_dhi'].attrs['psm_scale_factor'],axis=0)\n",
    "    df['clearsky_dni'] = np.mean(f['clearsky_dni'][::stride][spatial_index]/f['clearsky_dni'].attrs['psm_scale_factor'],axis=0)\n",
    "    df['clearsky_ghi'] = np.mean(f['clearsky_ghi'][::stride][spatial_index]/f['clearsky_ghi'].attrs['psm_scale_factor'],axis=0)\n",
    "    return df\n",
    "\n",
    "def get_energy_data(timestep,coordinates):\n",
    "    ac_array = []\n",
    "    for i in range(coordinates.shape[0]):\n",
    "        lat = coordinates.values[i][1]\n",
    "        lon = coordinates.values[i][0]\n",
    "        #try:\n",
    "        ac = get_energy(lat=lat,lon=lon)['ac_monthly'][timestep]\n",
    "        #except:\n",
    "        #    ac = 0\n",
    "        ac_array.append(ac)\n",
    "    df_energy['ac'] = ac_array    \n",
    "    return df_energy \n",
    "\n",
    "def cluster_data(df,n_clusters=8,eps=0.1):\n",
    "    features = [c for c in df.columns if c != 'latitude' and \n",
    "                c != 'longitude' and c != 'cluster' and \n",
    "                c != 'wind_speed' and c != 'clearsky_dhi' and\n",
    "                c != 'clearsky_dni' and c != 'clearsky_ghi' and\n",
    "                c != 'elevation' and c != 'landcover']\n",
    "    x = df[features].values #returns a numpy array\n",
    "    min_max_scaler = preprocessing.MinMaxScaler()\n",
    "    x_scaled = min_max_scaler.fit_transform(x)\n",
    "    df_scaled = pd.DataFrame(x_scaled)\n",
    "    clusters = KMeans(n_clusters=n_clusters, random_state=0).fit(df_scaled)\n",
    "    #clusters = DBSCAN(eps=eps).fit(df_scaled)\n",
    "    df['cluster'] = clusters.labels_\n",
    "    return df,clusters.inertia_"
   ]
  },
  {
   "cell_type": "code",
   "execution_count": 52,
   "id": "6b93f933-4ccb-46e4-9f4e-b49fef2bc2be",
   "metadata": {},
   "outputs": [],
   "source": [
    "f = h5pyd.File(\"/nrel/nsrdb/v3/nsrdb_2018.h5\", 'r')"
   ]
  },
  {
   "cell_type": "code",
   "execution_count": 250,
   "id": "39fba565-ccfb-4284-90fc-3e38d2e682c1",
   "metadata": {},
   "outputs": [
    {
     "data": {
      "text/plain": [
       "\"\\nCO = meta.loc[meta['state']==b'Colorado'][::10]\\ndf = CO[['longitude','latitude']].copy()\\ndf_energy = CO[['longitude','latitude']].copy()\\n\""
      ]
     },
     "execution_count": 250,
     "metadata": {},
     "output_type": "execute_result"
    }
   ],
   "source": [
    "meta = pd.DataFrame(f['meta'][...])\n",
    "USA = meta.loc[meta['country']==b'United States'][::1000]\n",
    "times = pd.to_datetime(f['time_index'][...].astype(str))\n",
    "df = USA[['longitude','latitude','elevation','landcover']].copy()\n",
    "df_energy = USA[['longitude','latitude']].copy()\n",
    "'''\n",
    "CO = meta.loc[meta['state']==b'Colorado'][::10]\n",
    "df = CO[['longitude','latitude']].copy()\n",
    "df_energy = CO[['longitude','latitude']].copy()\n",
    "'''"
   ]
  },
  {
   "cell_type": "code",
   "execution_count": null,
   "id": "715f83e9-2854-46b7-9699-1b72dbd6ccd5",
   "metadata": {},
   "outputs": [],
   "source": [
    "df = get_mean_rad_data(1000,USA.index)"
   ]
  },
  {
   "cell_type": "code",
   "execution_count": 177,
   "id": "348cdea0-ee1d-44f7-867b-3ed5164aef98",
   "metadata": {},
   "outputs": [],
   "source": [
    "df_energy = get_energy_data(0,USA)"
   ]
  },
  {
   "cell_type": "code",
   "execution_count": 187,
   "id": "6df18a1e-06dc-4365-a7bc-82ae1861df92",
   "metadata": {},
   "outputs": [],
   "source": [
    "#get_energy(lat=18.93,lon=-155.66,azimuth=180,module_type=1,tilt=40,array_type=1,capacity=10)"
   ]
  },
  {
   "cell_type": "code",
   "execution_count": 238,
   "id": "c836b57f-498b-4314-8140-3d50cd76cd4c",
   "metadata": {},
   "outputs": [],
   "source": [
    "distortions = []\n",
    "K = range(1,10)\n",
    "for k in K:\n",
    "    df,dist = cluster_data(df,n_clusters=k)\n",
    "    distortions.append(dist)\n",
    "    \n",
    "def curvature(a):\n",
    "    b = [0]*len(a)\n",
    "    for i in range(len(b)):\n",
    "        if 0<i<len(a)-1:\n",
    "            b[i] = (a[i+1]-2*a[i]+a[i-1])\n",
    "        elif i==0:\n",
    "            b[i] = (a[i+1]-2*a[i])\n",
    "        elif i==len(a)-1:\n",
    "            b[i] = (-2*a[i]+a[i-1])\n",
    "    return b        "
   ]
  },
  {
   "cell_type": "code",
   "execution_count": 239,
   "id": "5b5b06a9-79b8-46b2-a021-55ec772c1a09",
   "metadata": {},
   "outputs": [
    {
     "data": {
      "image/png": "[encoded data removed]",
      "text/plain": [
       "<Figure size 1152x576 with 1 Axes>"
      ]
     },
     "metadata": {
      "needs_background": "light"
     },
     "output_type": "display_data"
    }
   ],
   "source": [
    "plt.figure(figsize=(16,8))\n",
    "plt.plot(K, distortions, 'bx-')\n",
    "plt.plot(K,curvature(distortions))\n",
    "plt.xlabel('k')\n",
    "plt.ylabel('Distortion')\n",
    "plt.title('The Elbow Method showing the optimal k')\n",
    "plt.show()"
   ]
  },
  {
   "cell_type": "code",
   "execution_count": 246,
   "id": "ad0ac363-165e-4ae6-88bb-4f5cceaa3630",
   "metadata": {},
   "outputs": [],
   "source": [
    "df,dist = cluster_data(df,n_clusters=2)"
   ]
  },
  {
   "cell_type": "code",
   "execution_count": 247,
   "id": "a9e12296-546c-46d5-8183-da48a4c4b7d8",
   "metadata": {},
   "outputs": [
    {
     "data": {
      "text/html": [
       "<iframe\n",
       "    scrolling=\"no\"\n",
       "    width=\"100%\"\n",
       "    height=\"545px\"\n",
       "    src=\"iframe_figures/figure_247.html\"\n",
       "    frameborder=\"0\"\n",
       "    allowfullscreen\n",
       "></iframe>\n"
      ]
     },
     "metadata": {},
     "output_type": "display_data"
    }
   ],
   "source": [
    "fig = make_subplots(\n",
    "    rows=2, cols=4,\n",
    "    column_widths=[0.25, 0.25, 0.25, 0.25],\n",
    "    row_heights=[0.5, 0.5],\n",
    "    specs=[[{\"type\":\"scattergeo\",\"colspan\":2}, None, {\"type\":\"scattergeo\",\"rowspan\":1},{\"type\":\"scattergeo\",\"rowspan\":1}],\n",
    "           [{\"type\":\"scattergeo\",\"rowspan\":1}, {\"type\":\"scattergeo\",\"rowspan\":1}, \n",
    "            {\"type\":\"scattergeo\",\"rowspan\":1},{\"type\":\"scattergeo\",\"rowspan\":1}]],\n",
    "    subplot_titles=(\"Clusters\",\"Direct Normal Irradiance\",\"Relative Humidity\",\"Wind Speed\",\"Cloud Type\",\"Air Temperature\",\"Surface Albedo\"))\n",
    "\n",
    "fig.add_trace(go.Scattergeo(\n",
    "        lon = df['longitude'],\n",
    "        lat = df['latitude'],\n",
    "        text = df['cluster'],\n",
    "        mode = 'markers',\n",
    "        marker_color = df['cluster'],\n",
    "        showlegend=False,\n",
    "        ),row=1,col=1)\n",
    "\n",
    "fig.add_trace(go.Scattergeo(\n",
    "        lon = df['longitude'],\n",
    "        lat = df['latitude'],\n",
    "        text = df['dni'],\n",
    "        mode = 'markers',\n",
    "        marker_color = df['dni'],\n",
    "        showlegend=False,\n",
    "        ),row=1,col=3)\n",
    "\n",
    "fig.add_trace(go.Scattergeo(\n",
    "        lon = df['longitude'],\n",
    "        lat = df['latitude'],\n",
    "        text = df['relative_humidity'],\n",
    "        mode = 'markers',\n",
    "        marker_color = df['relative_humidity'],\n",
    "        showlegend=False,\n",
    "        ),row=1,col=4)\n",
    "\n",
    "fig.add_trace(go.Scattergeo(\n",
    "        lon = df['longitude'],\n",
    "        lat = df['latitude'],\n",
    "        text = df['wind_speed'],\n",
    "        mode = 'markers',\n",
    "        marker_color = df['wind_speed'],\n",
    "        showlegend=False,\n",
    "        ),row=2,col=1)\n",
    "\n",
    "fig.add_trace(go.Scattergeo(\n",
    "        lon = df['longitude'],\n",
    "        lat = df['latitude'],\n",
    "        text = df['cloud_type'],\n",
    "        mode = 'markers',\n",
    "        marker_color = df['cloud_type'],\n",
    "        showlegend=False,\n",
    "        ),row=2,col=2)\n",
    "\n",
    "fig.add_trace(go.Scattergeo(\n",
    "        lon = df['longitude'],\n",
    "        lat = df['latitude'],\n",
    "        text = df['air_temp'],\n",
    "        mode = 'markers',\n",
    "        marker_color = df['air_temp'],\n",
    "        showlegend=False,\n",
    "        ),row=2,col=3)\n",
    "\n",
    "fig.add_trace(go.Scattergeo(\n",
    "        lon = df['longitude'],\n",
    "        lat = df['latitude'],\n",
    "        text = df['surface_albedo'],\n",
    "        mode = 'markers',\n",
    "        marker_color = df['surface_albedo'],\n",
    "        showlegend=False,\n",
    "        ),row=2,col=4)\n",
    "\n",
    "fig.update_geos(scope='usa')\n",
    "\n",
    "fig.show()"
   ]
  },
  {
   "cell_type": "code",
   "execution_count": 248,
   "id": "0677426a-ce00-4b18-bea9-1a13b0713d26",
   "metadata": {},
   "outputs": [
    {
     "data": {
      "text/html": [
       "<div>\n",
       "<style scoped>\n",
       "    .dataframe tbody tr th:only-of-type {\n",
       "        vertical-align: middle;\n",
       "    }\n",
       "\n",
       "    .dataframe tbody tr th {\n",
       "        vertical-align: top;\n",
       "    }\n",
       "\n",
       "    .dataframe thead th {\n",
       "        text-align: right;\n",
       "    }\n",
       "</style>\n",
       "<table border=\"1\" class=\"dataframe\">\n",
       "  <thead>\n",
       "    <tr style=\"text-align: right;\">\n",
       "      <th></th>\n",
       "      <th>longitude</th>\n",
       "      <th>latitude</th>\n",
       "      <th>elevation</th>\n",
       "      <th>landcover</th>\n",
       "      <th>ghi</th>\n",
       "      <th>dni</th>\n",
       "      <th>dhi</th>\n",
       "      <th>air_temp</th>\n",
       "      <th>wind_speed</th>\n",
       "      <th>relative_humidity</th>\n",
       "      <th>surface_albedo</th>\n",
       "      <th>cloud_type</th>\n",
       "      <th>clearsky_dhi</th>\n",
       "      <th>clearsky_dni</th>\n",
       "      <th>clearsky_ghi</th>\n",
       "    </tr>\n",
       "    <tr>\n",
       "      <th>cluster</th>\n",
       "      <th></th>\n",
       "      <th></th>\n",
       "      <th></th>\n",
       "      <th></th>\n",
       "      <th></th>\n",
       "      <th></th>\n",
       "      <th></th>\n",
       "      <th></th>\n",
       "      <th></th>\n",
       "      <th></th>\n",
       "      <th></th>\n",
       "      <th></th>\n",
       "      <th></th>\n",
       "      <th></th>\n",
       "      <th></th>\n",
       "    </tr>\n",
       "  </thead>\n",
       "  <tbody>\n",
       "    <tr>\n",
       "      <th>0</th>\n",
       "      <td>-101.669907</td>\n",
       "      <td>36.519966</td>\n",
       "      <td>730.912048</td>\n",
       "      <td>92.180064</td>\n",
       "      <td>13.845659</td>\n",
       "      <td>53.855305</td>\n",
       "      <td>6.655949</td>\n",
       "      <td>-0.090675</td>\n",
       "      <td>2.333441</td>\n",
       "      <td>57.263794</td>\n",
       "      <td>0.147331</td>\n",
       "      <td>3.540193</td>\n",
       "      <td>5.556270</td>\n",
       "      <td>116.379421</td>\n",
       "      <td>18.726688</td>\n",
       "    </tr>\n",
       "    <tr>\n",
       "      <th>1</th>\n",
       "      <td>-100.757629</td>\n",
       "      <td>44.801357</td>\n",
       "      <td>805.451050</td>\n",
       "      <td>83.093220</td>\n",
       "      <td>3.139831</td>\n",
       "      <td>12.008475</td>\n",
       "      <td>2.313559</td>\n",
       "      <td>-15.981780</td>\n",
       "      <td>2.220339</td>\n",
       "      <td>74.066229</td>\n",
       "      <td>0.657627</td>\n",
       "      <td>4.266949</td>\n",
       "      <td>2.673729</td>\n",
       "      <td>43.669492</td>\n",
       "      <td>6.563559</td>\n",
       "    </tr>\n",
       "  </tbody>\n",
       "</table>\n",
       "</div>"
      ],
      "text/plain": [
       "          longitude   latitude   elevation  landcover        ghi        dni  \\\n",
       "cluster                                                                       \n",
       "0       -101.669907  36.519966  730.912048  92.180064  13.845659  53.855305   \n",
       "1       -100.757629  44.801357  805.451050  83.093220   3.139831  12.008475   \n",
       "\n",
       "              dhi   air_temp  wind_speed  relative_humidity  surface_albedo  \\\n",
       "cluster                                                                       \n",
       "0        6.655949  -0.090675    2.333441          57.263794        0.147331   \n",
       "1        2.313559 -15.981780    2.220339          74.066229        0.657627   \n",
       "\n",
       "         cloud_type  clearsky_dhi  clearsky_dni  clearsky_ghi  \n",
       "cluster                                                        \n",
       "0          3.540193      5.556270    116.379421     18.726688  \n",
       "1          4.266949      2.673729     43.669492      6.563559  "
      ]
     },
     "execution_count": 248,
     "metadata": {},
     "output_type": "execute_result"
    }
   ],
   "source": [
    "df.groupby(['cluster']).mean()"
   ]
  },
  {
   "cell_type": "code",
   "execution_count": 169,
   "id": "8dafdb87-c3f9-4fa5-b0cd-91a6fc18eeac",
   "metadata": {},
   "outputs": [
    {
     "data": {
      "image/png": "[encoded data removed]",
      "text/plain": [
       "<Figure size 432x288 with 9 Axes>"
      ]
     },
     "metadata": {
      "needs_background": "light"
     },
     "output_type": "display_data"
    }
   ],
   "source": [
    "fig, axes = plt.subplots(nrows=3, ncols=3)\n",
    "df.plot(kind='scatter',x='cluster',y='ghi',ax=axes[0,0])\n",
    "df.plot(kind='scatter',x='cluster',y='air_temp',ax=axes[0,1])\n",
    "df.plot(kind='scatter',x='cluster',y='relative_humidity',ax=axes[0,2])\n",
    "df.plot(kind='scatter',x='cluster',y='cloud_type',ax=axes[1,0])\n",
    "df.plot(kind='scatter',x='cluster',y='surface_albedo',ax=axes[1,1])\n",
    "df.plot(kind='scatter',x='cluster',y='dni',ax=axes[1,2])\n",
    "plt.tight_layout()"
   ]
  },
  {
   "cell_type": "code",
   "execution_count": 162,
   "id": "4b05af3e-ff56-42fc-a942-31d31d2e3274",
   "metadata": {},
   "outputs": [
    {
     "data": {
      "text/plain": [
       "<AxesSubplot:xlabel='cluster', ylabel='ghi'>"
      ]
     },
     "execution_count": 162,
     "metadata": {},
     "output_type": "execute_result"
    },
    {
     "data": {
      "image/png": "[encoded data removed]",
      "text/plain": [
       "<Figure size 432x288 with 1 Axes>"
      ]
     },
     "metadata": {
      "needs_background": "light"
     },
     "output_type": "display_data"
    }
   ],
   "source": [
    "df.plot(kind='scatter',x='cluster',y='ghi')"
   ]
  },
  {
   "cell_type": "code",
   "execution_count": null,
   "id": "5c104051-eb98-440e-8fe0-0f0d8d254582",
   "metadata": {},
   "outputs": [],
   "source": []
  }
 ],
 "metadata": {
  "kernelspec": {
   "display_name": "Python 3 (ipykernel)",
   "language": "python",
   "name": "python3"
  },
  "language_info": {
   "codemirror_mode": {
    "name": "ipython",
    "version": 3
   },
   "file_extension": ".py",
   "mimetype": "text/x-python",
   "name": "python",
   "nbconvert_exporter": "python",
   "pygments_lexer": "ipython3",
   "version": "3.9.7"
  }
 },
 "nbformat": 4,
 "nbformat_minor": 5
}
