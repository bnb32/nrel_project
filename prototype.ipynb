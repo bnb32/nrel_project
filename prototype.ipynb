{
 "cells": [
  {
   "cell_type": "code",
   "execution_count": 1,
   "id": "6293045e-0133-44f9-b779-a05de918c189",
   "metadata": {},
   "outputs": [],
   "source": [
    "import requests\n",
    "import pandas as pd\n",
    "import numpy as np\n",
    "import plotly.express as px\n",
    "import plotly.graph_objects as go\n",
    "from plotly.subplots import make_subplots\n",
    "import plotly.io as pio\n",
    "from sklearn.cluster import KMeans, DBSCAN\n",
    "#import h5pyd\n",
    "import matplotlib.pyplot as plt\n",
    "import matplotlib.image as mpimg\n",
    "from scipy.spatial import cKDTree\n",
    "from sklearn import preprocessing\n",
    "from tqdm import tqdm\n",
    "from sklearn.neighbors import NearestNeighbors\n",
    "pio.renderers.default = 'iframe'\n",
    "%matplotlib inline"
   ]
  },
  {
   "cell_type": "code",
   "execution_count": 11,
   "id": "660f512a-5baa-4b15-88cf-1fd1c5cfed35",
   "metadata": {},
   "outputs": [],
   "source": [
    "def get_stations(lat=40,lon=-105,radius=1000):\n",
    "    uri_stations=f'https://developer.nrel.gov/api/solar/data_query/v1.json?api_key={api_key}&lat={lat}&lon={lon}&radius={radius}&all=1'\n",
    "    rstations = requests.get(uri_stations)\n",
    "    print(rstations)\n",
    "    stations = rstations.json()['outputs']['all_stations']\n",
    "    return stations\n",
    "   \n",
    "def get_data(lat=40,lon=-105,radius=0):\n",
    "    uri_data=f'https://developer.nrel.gov/api/solar/solar_resource/v1.json?api_key={api_key}&lat={lat}&lon={lon}&radius={radius}&all=1'\n",
    "    rdata = requests.get(uri_data)\n",
    "    data = rdata.json()['outputs']\n",
    "    return data\n",
    "\n",
    "def get_energy(lat=40,lon=-105,radius=0,capacity=4,azimuth=180,tilt=0,array_type=0,module_type=0,losses=10):\n",
    "    uri_energy=f'https://developer.nrel.gov/api/pvwatts/v6.json?api_key={api_key}&lat={lat}&lon={lon}&radius={radius}'\n",
    "    uri_energy+=f'&system_capacity={capacity}&azimuth={azimuth}&tilt={tilt}&array_type={array_type}&module_type={module_type}&losses={losses}'\n",
    "    print(lat,lon)\n",
    "    renergy = requests.get(uri_energy)\n",
    "    data = renergy.json()['outputs']\n",
    "    return data\n",
    "                         \n",
    "def build_ds(lat=40,lon=-105,radius=1000):\n",
    "    ds = pd.DataFrame()\n",
    "    stations = get_stations(lat=lat,lon=lon,radius=radius)\n",
    "    for e in stations:\n",
    "        if e['dataset'] == 'tmy3':\n",
    "            try:\n",
    "                data = get_data(e['lat'],e['lon'])\n",
    "                entry = {'lat':e['lat'],\n",
    "                     'lon':e['lon'],\n",
    "                     'elevation':e['elevation'],\n",
    "                     'avg_dni_annual':data['avg_dni']['annual'],\n",
    "                     'avg_ghi_annual':data['avg_ghi']['annual'],\n",
    "                     'avg_lat_tilt_annual':data['avg_lat_tilt']['annual']}\n",
    "                for m,v in data['avg_dni']['monthly'].items():\n",
    "                    entry[f'avg_dni_{m}'] = v\n",
    "                for m,v in data['avg_ghi']['monthly'].items():\n",
    "                    entry[f'avg_ghi_{m}'] = v\n",
    "                for m,v in data['avg_lat_tilt']['monthly'].items():\n",
    "                    entry[f'avg_lat_tilt_{m}'] = v                        \n",
    "                ds = ds.append(entry, ignore_index=True)\n",
    "            except:\n",
    "                pass\n",
    "    return ds\n",
    "\n",
    "def closest_lat_lon(df,lat=40,lon=-105):\n",
    "    lats = df['latitude'].values.astype(float)\n",
    "    lons = df['longitude'].values.astype(float)\n",
    "    diff = np.inf\n",
    "    index = 0\n",
    "    for i in range(len(lats)):\n",
    "        dist = (float(lat)-lats[i])**2+(float(lon)-lons[i])**2\n",
    "        if dist < diff:\n",
    "            index = i\n",
    "            diff = dist\n",
    "    return index        \n",
    "\n",
    "def get_corrs(df,lat=40,lon=-105,features=None):\n",
    "    min_max_scaler = preprocessing.MinMaxScaler()\n",
    "    if features is None:\n",
    "        features = [c for c in df.columns if c != 'latitude' and \n",
    "                c != 'longitude' and c != 'cluster']# and \n",
    "                #c != 'wind_speed' and c != 'clearsky_dhi' and\n",
    "                #c != 'clearsky_dni' and c != 'clearsky_ghi' and\n",
    "                #c != 'elevation' and c != 'landcover']\n",
    "    x_scaled = min_max_scaler.fit_transform(df[features])\n",
    "    df_scaled = pd.DataFrame(x_scaled)\n",
    "    df_corrs = df_scaled.T.corr()\n",
    "    return df_corrs.iloc[closest_lat_lon(df,lat=lat,lon=lon)]\n",
    "\n",
    "def get_rad_data(timestep,spatial_index):\n",
    "    df['ghi'] = f['ghi'][timestep,spatial_index]/f['ghi'].attrs['psm_scale_factor']\n",
    "    df['dni'] = f['dni'][timestep,spatial_index]/f['dni'].attrs['psm_scale_factor']\n",
    "    df['dhi'] = f['dhi'][timestep,spatial_index]/f['dhi'].attrs['psm_scale_factor']\n",
    "    df['dew_point'] = f['dew_point'][timestep,spatial_index]/f['dew_point'].attrs['psm_scale_factor']\n",
    "    df['solar_zenith_angle'] = f['solar_zenith_angle'][timestep,spatial_index]/f['solar_zenith_angle'].attrs['psm_scale_factor']\n",
    "    df['total_precip'] = f['total_precipitable_water'][timestep,spatial_index]/f['total_precipitable_water'].attrs['psm_scale_factor']\n",
    "    df['air_temp'] = f['air_temperature'][timestep,spatial_index]/f['air_temperature'].attrs['psm_scale_factor']\n",
    "    df['wind_speed'] = f['wind_speed'][timestep,spatial_index]/f['wind_speed'].attrs['psm_scale_factor']\n",
    "    df['relative_humidity'] = f['relative_humidity'][timestep,spatial_index]/f['relative_humidity'].attrs['psm_scale_factor']\n",
    "    df['surface_albedo'] = f['surface_albedo'][timestep,spatial_index]/f['surface_albedo'].attrs['psm_scale_factor']\n",
    "    df['cloud_type'] = f['cloud_type'][timestep,spatial_index]/f['cloud_type'].attrs['psm_scale_factor']\n",
    "    df['clearsky_dhi'] = f['clearsky_dhi'][timestep,spatial_index]/f['clearsky_dhi'].attrs['psm_scale_factor']\n",
    "    df['clearsky_dni'] = f['clearsky_dni'][timestep,spatial_index]/f['clearsky_dni'].attrs['psm_scale_factor']\n",
    "    df['clearsky_ghi'] = f['clearsky_ghi'][timestep,spatial_index]/f['clearsky_ghi'].attrs['psm_scale_factor']\n",
    "    return df\n",
    "\n",
    "def get_avg_field(field,spatial_index,stride=10):\n",
    "    tmp = []#[0]*len(spatial_index)\n",
    "    for i in tqdm(spatial_index):\n",
    "        tmp.append(np.mean(f[field][::stride,i]/f[field].attrs['psm_scale_factor']))\n",
    "    return tmp\n",
    "\n",
    "def add_mean_field(field,spatial_index,stride=1000):\n",
    "    df[field] = get_avg_field(field,spatial_index,stride)\n",
    "    return df\n",
    "\n",
    "def get_mean_rad_data(spatial_index,stride=1000):\n",
    "    df['ghi'] = get_avg_field('ghi',spatial_index,stride)\n",
    "    df['dni'] = get_avg_field('dni',spatial_index,stride)\n",
    "    df['dhi'] = get_avg_field('dhi',spatial_index,stride)\n",
    "    df['dew_point'] = get_avg_field('dew_point',spatial_index,stride)\n",
    "    df['solar_zenith_angle'] = get_avg_field('zolar_zenith_angle',spatial_index,stride)\n",
    "    df['total_precipitable_water'] = get_avg_field('total_precipitable_water',spatial_index,stride)\n",
    "    df['air_temperature'] = get_avg_field('air_temperature',spatial_index,stride)\n",
    "    df['wind_speed'] = get_avg_field('wind_speed',spatial_index,stride)\n",
    "    df['relative_humidity'] = get_avg_field('relative_humidity',spatial_index,stride)\n",
    "    df['surface_albedo'] = get_avg_field('surface_albedo',spatial_index,stride)\n",
    "    df['cloud_type'] = get_avg_field('cloud_type',spatial_index,stride)\n",
    "    df['clearsky_dhi'] = get_avg_field('clearsky_dhi',spatial_index,stride)\n",
    "    df['clearsky_dni'] = get_avg_field('clearsky_dni',spatial_index,stride)\n",
    "    df['clearsky_ghi'] = get_avg_field('clearsky_ghi',spatial_index,stride)\n",
    "    return df\n",
    "\n",
    "def get_energy_data(timestep,coordinates):\n",
    "    ac_array = []\n",
    "    for i in range(coordinates.shape[0]):\n",
    "        lat = coordinates.values[i][1]\n",
    "        lon = coordinates.values[i][0]\n",
    "        #try:\n",
    "        ac = get_energy(lat=lat,lon=lon)['ac_monthly'][timestep]\n",
    "        #except:\n",
    "        #    ac = 0\n",
    "        ac_array.append(ac)\n",
    "    df_energy['ac'] = ac_array    \n",
    "    return df_energy \n",
    "\n",
    "def scale_data(df,features=None):\n",
    "    if features is None:\n",
    "        features = [c for c in df.columns if c != 'latitude' and \n",
    "                    c != 'longitude' and 'cluster' not in c]\n",
    "    x = df[features].values #returns a numpy array\n",
    "    min_max_scaler = preprocessing.MinMaxScaler()\n",
    "    x_scaled = min_max_scaler.fit_transform(x)\n",
    "    df_scaled = pd.DataFrame(x_scaled)\n",
    "    return df_scaled\n",
    "\n",
    "def cluster_data_kmeans(df,n_clusters=8,features=None):\n",
    "    df_scaled = scale_data(df,features)\n",
    "    clusters = KMeans(n_clusters=n_clusters, random_state=0).fit(df_scaled)\n",
    "    df['kmeans_cluster'] = clusters.labels_\n",
    "    return df,clusters.inertia_\n",
    "\n",
    "def cluster_data_dbscan(df_scaled,eps=0.1,min_pts=3,features=None):\n",
    "    df_scaled = scale_data(df,features)\n",
    "    clusters = DBSCAN(eps=eps,min_samples=min_pts).fit(df_scaled)\n",
    "    df['dbscan_cluster'] = clusters.labels_\n",
    "    return df\n",
    "\n",
    "def curvature(a):\n",
    "    b = [0]*len(a)\n",
    "    for i in range(len(b)):\n",
    "        if 0<i<len(a)-1:\n",
    "            b[i] = (a[i+1]-2*a[i]+a[i-1])\n",
    "        elif i==0:\n",
    "            b[i] = (a[i+1]-2*a[i])\n",
    "        elif i==len(a)-1:\n",
    "            b[i] = (-2*a[i]+a[i-1])\n",
    "    return b  \n",
    "\n",
    "def get_optimal_k(df,features=None):\n",
    "    distortions = []\n",
    "    K = range(1,10)\n",
    "    for k in K:\n",
    "        df,dist = cluster_data_kmeans(df,n_clusters=k,features=features)\n",
    "        distortions.append(dist)  \n",
    "    return K[np.argmax(curvature(distortions))]\n",
    "\n",
    "def get_optimal_eps(df,features=None):\n",
    "    df_scaled = scale_data(df,features)\n",
    "    neigh = NearestNeighbors(n_neighbors=2)\n",
    "    nbrs = neigh.fit(df_scaled)\n",
    "    distances, indices = nbrs.kneighbors(df_scaled)\n",
    "    distances = np.sort(distances, axis=0)\n",
    "    distances = distances[:,1]\n",
    "    return distances[np.argmax(curvature(distances))]\n",
    "\n",
    "def add_subplot(fig,field,row,col,x,y,clen=0.35,cbar_title=''):\n",
    "    fig.add_trace(go.Scattergeo(\n",
    "        lon = df['longitude'],\n",
    "        lat = df['latitude'],\n",
    "        text = df[field],\n",
    "        mode = 'markers',\n",
    "        marker_color = df[field],\n",
    "        showlegend=False,\n",
    "        marker = dict(colorscale='inferno',\n",
    "                      colorbar=dict(x=x,y=y,len=clen,thickness=7,\n",
    "                                    title=cbar_title,titleside='right',\n",
    "                                    titlefont=dict(family='Courier New',size=12),\n",
    "                                    tickfont=dict(family='Courier New',size=12))),\n",
    "        ),row=row,col=col)\n",
    "    return fig"
   ]
  },
  {
   "cell_type": "code",
   "execution_count": 176,
   "id": "6b93f933-4ccb-46e4-9f4e-b49fef2bc2be",
   "metadata": {},
   "outputs": [],
   "source": [
    "f = h5pyd.File(\"/nrel/nsrdb/v3/nsrdb_2018.h5\", 'r')"
   ]
  },
  {
   "cell_type": "code",
   "execution_count": 148,
   "id": "6912ed41-8243-4594-8269-8c21f35148ee",
   "metadata": {},
   "outputs": [],
   "source": [
    "meta = pd.DataFrame(f['meta'][...])\n",
    "USA = meta.loc[meta['country']==b'United States'][::1000]"
   ]
  },
  {
   "cell_type": "code",
   "execution_count": 76,
   "id": "8dba9753-330a-48d8-926a-97c970ec1780",
   "metadata": {},
   "outputs": [
    {
     "name": "stderr",
     "output_type": "stream",
     "text": [
      "100%|█████████████████████████████████████████████████████████████████████| 547/547 [03:46<00:00,  2.41it/s]\n"
     ]
    }
   ],
   "source": [
    "df = add_mean_field('ghi',USA.index,stride=1000)"
   ]
  },
  {
   "cell_type": "code",
   "execution_count": 78,
   "id": "75971b08-3f71-493a-b9f0-f83c6094f2aa",
   "metadata": {},
   "outputs": [
    {
     "name": "stderr",
     "output_type": "stream",
     "text": [
      "100%|█████████████████████████████████████████████████████████████████████| 547/547 [03:56<00:00,  2.31it/s]\n"
     ]
    }
   ],
   "source": [
    "df = add_mean_field('air_temperature',USA.index,stride=1000)"
   ]
  },
  {
   "cell_type": "code",
   "execution_count": 80,
   "id": "00a898fd-2a93-406e-907b-c78209eeefb9",
   "metadata": {},
   "outputs": [
    {
     "name": "stderr",
     "output_type": "stream",
     "text": [
      "100%|█████████████████████████████████████████████████████████████████████| 547/547 [04:04<00:00,  2.24it/s]\n"
     ]
    }
   ],
   "source": [
    "df = add_mean_field('dew_point',USA.index,stride=1000)"
   ]
  },
  {
   "cell_type": "code",
   "execution_count": 87,
   "id": "c4d955e0-2dd6-4497-9d8a-1fa9f166df0d",
   "metadata": {},
   "outputs": [
    {
     "name": "stderr",
     "output_type": "stream",
     "text": [
      "100%|█████████████████████████████████████████████████████████████████████| 547/547 [04:32<00:00,  2.01it/s]\n"
     ]
    }
   ],
   "source": [
    "df = add_mean_field('surface_albedo',USA.index,stride=1000)"
   ]
  },
  {
   "cell_type": "code",
   "execution_count": 89,
   "id": "368b0854-0947-471f-9ab9-43bd58aae55e",
   "metadata": {},
   "outputs": [
    {
     "name": "stderr",
     "output_type": "stream",
     "text": [
      "100%|█████████████████████████████████████████████████████████████████████| 547/547 [03:29<00:00,  2.62it/s]\n"
     ]
    }
   ],
   "source": [
    "df = add_mean_field('cloud_type',USA.index,stride=1000)"
   ]
  },
  {
   "cell_type": "code",
   "execution_count": 91,
   "id": "cf51a256-3fd0-4d07-98a0-77e61ca24054",
   "metadata": {},
   "outputs": [
    {
     "name": "stderr",
     "output_type": "stream",
     "text": [
      "100%|█████████████████████████████████████████████████████████████████████| 547/547 [03:34<00:00,  2.55it/s]\n"
     ]
    }
   ],
   "source": [
    "df = add_mean_field('wind_speed',USA.index,stride=1000)"
   ]
  },
  {
   "cell_type": "code",
   "execution_count": 93,
   "id": "7edb21e4-aeb6-4997-a076-b110a5be56e2",
   "metadata": {},
   "outputs": [
    {
     "name": "stderr",
     "output_type": "stream",
     "text": [
      "100%|█████████████████████████████████████████████████████████████████████| 547/547 [03:34<00:00,  2.54it/s]\n"
     ]
    }
   ],
   "source": [
    "df = add_mean_field('relative_humidity',USA.index,stride=1000)"
   ]
  },
  {
   "cell_type": "code",
   "execution_count": 95,
   "id": "109a7c0e-701c-45c7-a02a-07f6513f03a8",
   "metadata": {},
   "outputs": [
    {
     "name": "stderr",
     "output_type": "stream",
     "text": [
      "100%|█████████████████████████████████████████████████████████████████████| 547/547 [03:39<00:00,  2.49it/s]\n"
     ]
    }
   ],
   "source": [
    "df = add_mean_field('dni',USA.index,stride=1000)"
   ]
  },
  {
   "cell_type": "code",
   "execution_count": 97,
   "id": "09ad7ad3-6d87-47b7-b552-5b1785ce45b2",
   "metadata": {},
   "outputs": [
    {
     "name": "stderr",
     "output_type": "stream",
     "text": [
      "100%|█████████████████████████████████████████████████████████████████████| 547/547 [03:30<00:00,  2.60it/s]\n"
     ]
    }
   ],
   "source": [
    "df = add_mean_field('solar_zenith_angle',USA.index,stride=1000)"
   ]
  },
  {
   "cell_type": "code",
   "execution_count": 99,
   "id": "2273986b-eb84-4d1b-8053-a9df78e4b44a",
   "metadata": {},
   "outputs": [
    {
     "name": "stderr",
     "output_type": "stream",
     "text": [
      "100%|█████████████████████████████████████████████████████████████████████| 547/547 [03:47<00:00,  2.41it/s]\n"
     ]
    }
   ],
   "source": [
    "df = add_mean_field('total_precipitable_water',USA.index,stride=1000)"
   ]
  },
  {
   "cell_type": "code",
   "execution_count": 101,
   "id": "0985e5da-cc75-4b76-a926-05024df234df",
   "metadata": {},
   "outputs": [
    {
     "name": "stderr",
     "output_type": "stream",
     "text": [
      "100%|█████████████████████████████████████████████████████████████████████| 547/547 [03:59<00:00,  2.28it/s]\n"
     ]
    }
   ],
   "source": [
    "df = add_mean_field('dhi',USA.index,stride=1000)"
   ]
  },
  {
   "cell_type": "code",
   "execution_count": 103,
   "id": "562e8791-c93d-4704-9f25-35578948d4a8",
   "metadata": {},
   "outputs": [
    {
     "name": "stderr",
     "output_type": "stream",
     "text": [
      "100%|█████████████████████████████████████████████████████████████████████| 547/547 [04:03<00:00,  2.25it/s]\n"
     ]
    }
   ],
   "source": [
    "df = add_mean_field('clearsky_dhi',USA.index,stride=1000)"
   ]
  },
  {
   "cell_type": "code",
   "execution_count": 106,
   "id": "cb56253a-ab01-4aee-9d3f-e7db5bfa820c",
   "metadata": {},
   "outputs": [
    {
     "name": "stderr",
     "output_type": "stream",
     "text": [
      "100%|█████████████████████████████████████████████████████████████████████| 547/547 [03:58<00:00,  2.29it/s]\n"
     ]
    }
   ],
   "source": [
    "df = add_mean_field('clearsky_ghi',USA.index,stride=1000)"
   ]
  },
  {
   "cell_type": "code",
   "execution_count": 108,
   "id": "387c7d82-3792-4cfc-874f-717a8c682c10",
   "metadata": {},
   "outputs": [
    {
     "name": "stderr",
     "output_type": "stream",
     "text": [
      "100%|█████████████████████████████████████████████████████████████████████| 547/547 [03:54<00:00,  2.34it/s]\n"
     ]
    }
   ],
   "source": [
    "df = add_mean_field('clearsky_dni',USA.index,stride=1000)"
   ]
  },
  {
   "cell_type": "code",
   "execution_count": 66,
   "id": "05b20a64-e490-4364-b7bd-3b42f341e892",
   "metadata": {},
   "outputs": [
    {
     "name": "stderr",
     "output_type": "stream",
     "text": [
      "100%|█████████████████████████████████████████████████████████████████████| 547/547 [04:03<00:00,  2.25it/s]\n"
     ]
    }
   ],
   "source": [
    "#df = add_mean_field('surface_pressure',USA.index,stride=1000)"
   ]
  },
  {
   "cell_type": "code",
   "execution_count": 110,
   "id": "2c8d2e3a-d601-4a03-be0a-4926d78b7da3",
   "metadata": {},
   "outputs": [
    {
     "name": "stderr",
     "output_type": "stream",
     "text": [
      "100%|█████████████████████████████████████████████████████████████████████| 547/547 [03:56<00:00,  2.32it/s]\n"
     ]
    }
   ],
   "source": [
    "df = add_mean_field('aod',USA.index,stride=1000)"
   ]
  },
  {
   "cell_type": "code",
   "execution_count": 112,
   "id": "a5ff5e95-15b5-4e67-9efd-ae59302e1357",
   "metadata": {},
   "outputs": [
    {
     "name": "stderr",
     "output_type": "stream",
     "text": [
      "100%|█████████████████████████████████████████████████████████████████████| 547/547 [04:01<00:00,  2.26it/s]\n"
     ]
    }
   ],
   "source": [
    "df = add_mean_field('cloud_press_acha',USA.index,stride=1000)"
   ]
  },
  {
   "cell_type": "code",
   "execution_count": 149,
   "id": "8db63d5d-90c8-4864-a7d0-3cdfd7d264d2",
   "metadata": {},
   "outputs": [
    {
     "name": "stderr",
     "output_type": "stream",
     "text": [
      "100%|█████████████████████████████████████████████████████████████████████| 547/547 [03:22<00:00,  2.70it/s]\n"
     ]
    }
   ],
   "source": [
    "df = add_mean_field('cld_opd_dcomp',USA.index,stride=1000)"
   ]
  },
  {
   "cell_type": "code",
   "execution_count": 151,
   "id": "7d6f2d5f-d548-4748-8434-ec527856a5b9",
   "metadata": {},
   "outputs": [
    {
     "name": "stderr",
     "output_type": "stream",
     "text": [
      "100%|█████████████████████████████████████████████████████████████████████| 547/547 [03:40<00:00,  2.49it/s]\n"
     ]
    }
   ],
   "source": [
    "df = add_mean_field('cld_reff_dcomp',USA.index,stride=1000)"
   ]
  },
  {
   "cell_type": "code",
   "execution_count": null,
   "id": "e9c90dd6-540a-47b9-aa6b-0b90702fd00c",
   "metadata": {},
   "outputs": [],
   "source": [
    "df = add_mean_field('alpha',USA.index,stride=1000)"
   ]
  },
  {
   "cell_type": "code",
   "execution_count": null,
   "id": "f1aea637-a5f5-4e59-a0fe-5c29aa90f483",
   "metadata": {},
   "outputs": [],
   "source": [
    "df = add_mean_field('asymmetry',USA.index,stride=1000)"
   ]
  },
  {
   "cell_type": "code",
   "execution_count": 170,
   "id": "27d01581-bc64-4547-ab14-593ae8963969",
   "metadata": {},
   "outputs": [
    {
     "name": "stderr",
     "output_type": "stream",
     "text": [
      "100%|█████████████████████████████████████████████████████████████████████| 547/547 [03:43<00:00,  2.45it/s]\n"
     ]
    }
   ],
   "source": [
    "df = add_mean_field('ozone',USA.index,stride=1000)"
   ]
  },
  {
   "cell_type": "code",
   "execution_count": 177,
   "id": "8a1afcd0-8918-42dd-bcb7-befa6011c7e3",
   "metadata": {},
   "outputs": [
    {
     "name": "stderr",
     "output_type": "stream",
     "text": [
      "100%|█████████████████████████████████████████████████████████████████████| 547/547 [03:34<00:00,  2.55it/s]\n"
     ]
    }
   ],
   "source": [
    "df = add_mean_field('ssa',USA.index,stride=1000)"
   ]
  },
  {
   "cell_type": "code",
   "execution_count": 153,
   "id": "54f86bb2-09cf-4dce-a47a-082000b045f0",
   "metadata": {},
   "outputs": [
    {
     "name": "stderr",
     "output_type": "stream",
     "text": [
      "100%|█████████████████████████████████████████████████████████████████████| 547/547 [03:45<00:00,  2.43it/s]\n"
     ]
    }
   ],
   "source": [
    "df = add_mean_field('wind_direction',USA.index,stride=1000)"
   ]
  },
  {
   "cell_type": "code",
   "execution_count": 180,
   "id": "37efa84e-9325-4022-aa55-c38e3dbf2ed2",
   "metadata": {},
   "outputs": [],
   "source": [
    "df.to_csv('nrel_df.csv')\n",
    "#df.to_pickle('/data/bnb32/tmp/nrel_df_bkup.pkl')"
   ]
  },
  {
   "cell_type": "code",
   "execution_count": 3,
   "id": "2c489faf-b5e2-4ad5-b1f5-efb2acf41b02",
   "metadata": {},
   "outputs": [],
   "source": [
    "df = pd.read_pickle('/data/bnb32/tmp/nrel_df.pkl')"
   ]
  },
  {
   "cell_type": "code",
   "execution_count": 9,
   "id": "d5094bc9-5dff-4bab-b61a-67df493e56ed",
   "metadata": {},
   "outputs": [],
   "source": [
    "df = pd.read_csv('nrel_df.csv')"
   ]
  },
  {
   "cell_type": "code",
   "execution_count": 61,
   "id": "e62af2b9-864c-4433-8608-b5e23f9ead23",
   "metadata": {},
   "outputs": [
    {
     "data": {
      "text/plain": [
       "0.03895480083385155"
      ]
     },
     "execution_count": 61,
     "metadata": {},
     "output_type": "execute_result"
    }
   ],
   "source": [
    "df_scaled = scale_data(df,features)\n",
    "neigh = NearestNeighbors(n_neighbors=2)\n",
    "nbrs = neigh.fit(df_scaled)\n",
    "distances, indices = nbrs.kneighbors(df_scaled)\n",
    "distances = np.sort(distances, axis=0)\n",
    "distances = distances[:,1]\n",
    "distances[np.argmax(curvature(distances))]\n",
    "#plt.plot(distances)"
   ]
  },
  {
   "cell_type": "code",
   "execution_count": 62,
   "id": "6caa4ebc-a0ff-4550-a141-6c4ba3759790",
   "metadata": {},
   "outputs": [
    {
     "data": {
      "image/png": "[encoded data removed]",
      "text/plain": [
       "<Figure size 720x720 with 1 Axes>"
      ]
     },
     "metadata": {
      "needs_background": "light"
     },
     "output_type": "display_data"
    }
   ],
   "source": [
    "fig,ax = plt.subplots(figsize=(10,10))\n",
    "#plt.figure(figsize=(16,8))\n",
    "ax.plot(distances[500:],label='Distances')\n",
    "ax.plot(curvature(distances)[500:],'bx-',label='Curvature')\n",
    "plt.ylabel('eps')\n",
    "#plt.ylabel('Curvature')\n",
    "plt.title('Optimizing eps')\n",
    "legend = ax.legend()\n",
    "plt.savefig('optimal_eps.png')"
   ]
  },
  {
   "cell_type": "code",
   "execution_count": 64,
   "id": "86386b83-17db-4ed7-9fb6-7ecf0bf0eba6",
   "metadata": {},
   "outputs": [
    {
     "data": {
      "text/plain": [
       "2"
      ]
     },
     "execution_count": 64,
     "metadata": {},
     "output_type": "execute_result"
    }
   ],
   "source": [
    "distortions = []\n",
    "K = range(1,10)\n",
    "for k in K:\n",
    "    df,dist = cluster_data_kmeans(df,n_clusters=k,features=features)\n",
    "    distortions.append(dist)\n",
    "K[np.argmax(curvature(distortions))]    "
   ]
  },
  {
   "cell_type": "code",
   "execution_count": 65,
   "id": "5b5b06a9-79b8-46b2-a021-55ec772c1a09",
   "metadata": {},
   "outputs": [
    {
     "data": {
      "image/png": "[encoded data removed]",
      "text/plain": [
       "<Figure size 720x720 with 1 Axes>"
      ]
     },
     "metadata": {
      "needs_background": "light"
     },
     "output_type": "display_data"
    }
   ],
   "source": [
    "#plt.figure(figsize=(16,8))\n",
    "fig,ax = plt.subplots(figsize=(10,10))\n",
    "ax.plot(K, distortions, 'bx-',label='Distortion')\n",
    "ax.plot(K,curvature(distortions),label='Curvature')\n",
    "plt.xlabel('k')\n",
    "#plt.ylabel('Distortion')\n",
    "plt.title('Optimizing k')\n",
    "legend = ax.legend()\n",
    "plt.savefig('optimal_k.png')\n",
    "plt.show()"
   ]
  },
  {
   "cell_type": "code",
   "execution_count": 158,
   "id": "91cd1e56-eabc-49e3-92f5-f4b7cbb3f2b7",
   "metadata": {},
   "outputs": [],
   "source": [
    "base_features = ['dbscan_cluster',None,None,None,'kmeans_cluster',None,None,None,\n",
    "                 None,None,None,None,None,None,None,None,\n",
    "                 'elevation', 'landcover', 'surface_pressure',\n",
    "                 'ghi', 'air_temperature', 'dew_point', 'surface_albedo', 'cloud_type',\n",
    "                 'wind_speed', 'relative_humidity', 'dni', 'solar_zenith_angle',\n",
    "                 'total_precipitable_water', 'dhi', 'clearsky_dhi', 'clearsky_ghi',\n",
    "                 'clearsky_dni', 'aod', 'cloud_press_acha','cld_opd_dcomp',\n",
    "                 'cld_reff_dcomp','wind_direction','ozone','ssa']"
   ]
  },
  {
   "cell_type": "code",
   "execution_count": 159,
   "id": "db87986b-8115-4ac0-b47f-9edba5aad5ec",
   "metadata": {},
   "outputs": [],
   "source": [
    "feature_units = []\n",
    "for b in base_features:\n",
    "    try:\n",
    "        feature_units.append(f[b].attrs['units'])\n",
    "    except:\n",
    "        feature_units.append('')       "
   ]
  },
  {
   "cell_type": "code",
   "execution_count": 173,
   "id": "debffa4a-1432-41dd-a495-442980dbeb51",
   "metadata": {},
   "outputs": [
    {
     "data": {
      "text/plain": [
       "'atm-cm'"
      ]
     },
     "execution_count": 173,
     "metadata": {},
     "output_type": "execute_result"
    }
   ],
   "source": [
    "f['ozone'].attrs['units']"
   ]
  },
  {
   "cell_type": "code",
   "execution_count": 42,
   "id": "8379c43e-32c4-479a-a1df-7d5c2d84f124",
   "metadata": {},
   "outputs": [],
   "source": [
    "def generate_figure(df,fig,features=['ghi'],n_clusters=None,eps=None,lat=40,lon=-105,min_pts=3,initialize=False):\n",
    "    feature_units = ['','','','','','','','','','','','','','','','',\n",
    "                     'm','m2','hPa','W/m2','Celsius','Celsius',\n",
    "                     'unitless',\"type\",'m/s','%','W/m2','degrees',\n",
    "                     'cm','W/m2','W/m2','W/m2','W/m2','unitless','hPa',\n",
    "                     '','','degrees','atm-cm','']\n",
    "    base_features = ['dbscan_cluster',None,None,'kmeans_cluster',None,None,'Correlations',None,\n",
    "                     None,None,None,None,None,None,None,None,\n",
    "                    'elevation', 'landcover', 'surface_pressure',\n",
    "                    'ghi', 'air_temperature', 'dew_point', 'surface_albedo', 'cloud_type',\n",
    "                    'wind_speed', 'relative_humidity', 'dni', 'solar_zenith_angle',\n",
    "                    'total_precipitable_water', 'dhi', 'clearsky_dhi', 'clearsky_ghi',\n",
    "                    'clearsky_dni', 'aod', 'cloud_press_acha','cld_opd_dcomp',\n",
    "                    'cld_reff_dcomp', 'wind_direction','ozone','ssa']\n",
    "    \n",
    "#titles = (f'*{f}*' if f in features else f'{f}' for f in base_features if f is not None)\n",
    "    titles = (f'{f}' for f in base_features if f is not None)\n",
    "    \n",
    "    if n_clusters is None:\n",
    "        n_clusters = get_optimal_k(df,features)\n",
    "    if eps is None:\n",
    "        eps = get_optimal_eps(df,features)\n",
    "    df = cluster_data_dbscan(df,\n",
    "                             eps=eps,\n",
    "                             min_pts=min_pts,\n",
    "                             features=features)\n",
    "    df,dist = cluster_data_kmeans(df,\n",
    "                                  n_clusters=n_clusters,\n",
    "                                  features=features)\n",
    "    \n",
    "    if initialize:\n",
    "\n",
    "\n",
    "        fig = make_subplots(\n",
    "    rows=5, cols=8,\n",
    "    column_widths=[0.2,0.2,0.2,0.2,0.2,0.2,0.2,0.2],\n",
    "    row_heights=[1,1,1,1,1,],\n",
    "    specs=[\n",
    "           [{\"type\":\"scattergeo\",\"rowspan\":2,\"colspan\":2},None,None,{\"type\":\"scattergeo\",\"rowspan\":2,\"colspan\":2},None,None,{\"type\":\"scattergeo\",\"rowspan\":2,\"colspan\":2},None],\n",
    "           [None,None,None,None,None,None,None,None],\n",
    "           [{\"type\":\"scattergeo\"},{\"type\":\"scattergeo\"},{\"type\":\"scattergeo\"},{\"type\":\"scattergeo\"},{\"type\":\"scattergeo\"},{\"type\":\"scattergeo\"},{\"type\":\"scattergeo\"},{\"type\":\"scattergeo\"}],\n",
    "           [{\"type\":\"scattergeo\"},{\"type\":\"scattergeo\"},{\"type\":\"scattergeo\"},{\"type\":\"scattergeo\"},{\"type\":\"scattergeo\"},{\"type\":\"scattergeo\"},{\"type\":\"scattergeo\"},{\"type\":\"scattergeo\"}],\n",
    "           [{\"type\":\"scattergeo\"},{\"type\":\"scattergeo\"},{\"type\":\"scattergeo\"},{\"type\":\"scattergeo\"},{\"type\":\"scattergeo\"},{\"type\":\"scattergeo\"},{\"type\":\"scattergeo\"},{\"type\":\"scattergeo\"}]],\n",
    "    subplot_titles=list(titles))\n",
    "\n",
    "    colorbar_x = [0.085+i*(1.0/8+0.003) for i in range(8)]\n",
    "    colorbar_y = [0.92-i*(1.0/5+0.0135) for i in range(5)]\n",
    "    \n",
    "    corrs = get_corrs(df,features=features,lat=lat,lon=lon)\n",
    "\n",
    "    for i,field in enumerate(base_features):\n",
    "        if field is None:\n",
    "            pass\n",
    "        else:\n",
    "            cbar_title = feature_units[i]\n",
    "            row_idx = i//8\n",
    "            col_idx = i%8\n",
    "            #print(row_idx,col_idx)\n",
    "            if row_idx==0:\n",
    "                if col_idx==0:\n",
    "                    fig = add_subplot(fig,field,row_idx+1,col_idx+1,0.21,0.85,clen=0.25,cbar_title=cbar_title)\n",
    "                if col_idx==3:\n",
    "                    fig = add_subplot(fig,field,row_idx+1,col_idx+1,0.59,0.85,clen=0.25,cbar_title=cbar_title)\n",
    "                if col_idx==6:\n",
    "                    fig.add_trace(go.Scattergeo(lon = df['longitude'],\n",
    "                              lat = df['latitude'],\n",
    "                              text = corrs,\n",
    "                              mode = 'markers',\n",
    "                              marker_color = corrs,\n",
    "                              marker = dict(colorscale='inferno',colorbar=dict(x=0.98,y=0.85,len=0.25,thickness=7)),\n",
    "                              showlegend=False),row=1,col=7)    \n",
    "            else:        \n",
    "                if initialize:\n",
    "                    fig = add_subplot(fig,field,row_idx+1,col_idx+1,colorbar_x[col_idx],colorbar_y[row_idx],clen=0.14,cbar_title=cbar_title)\n",
    "\n",
    "    fig.update_geos(scope='usa')\n",
    "    fig.update_layout(\n",
    "    margin=dict(l=20, r=20, t=20, b=20),\n",
    "    paper_bgcolor=\"LightSteelBlue\",\n",
    "    height=700, width=1800,\n",
    "    )\n",
    "    for n,i in enumerate(fig['layout']['annotations']):\n",
    "        if i['text'] in features:\n",
    "            i['font'] = dict(size=14,color='red')\n",
    "        else:\n",
    "            i['font'] = dict(size=14)       \n",
    "    return fig"
   ]
  },
  {
   "cell_type": "code",
   "execution_count": 43,
   "id": "857e81fe-e6e0-491a-8e5d-36796790e3c4",
   "metadata": {},
   "outputs": [],
   "source": [
    "#fig = init_figure(features=['ghi','dni','air_temperature'])\n",
    "fig = None\n",
    "fig = generate_figure(df,fig,features=['ghi','dni','dhi','air_temperature'],n_clusters=5,eps=0.07,min_pts=15,initialize=True)"
   ]
  },
  {
   "cell_type": "code",
   "execution_count": 44,
   "id": "30382e76-4227-43e8-8fa2-c4ceb6483bc7",
   "metadata": {},
   "outputs": [
    {
     "data": {
      "text/html": [
       "<iframe\n",
       "    scrolling=\"no\"\n",
       "    width=\"1820px\"\n",
       "    height=\"720\"\n",
       "    src=\"iframe_figures/figure_44.html\"\n",
       "    frameborder=\"0\"\n",
       "    allowfullscreen\n",
       "></iframe>\n"
      ]
     },
     "metadata": {},
     "output_type": "display_data"
    }
   ],
   "source": [
    "generate_figure(df,fig,features=['ghi','dni','dhi','wind_speed'],n_clusters=5,eps=0.07,min_pts=15,initialize=False).show()"
   ]
  },
  {
   "cell_type": "code",
   "execution_count": 45,
   "id": "7d386bfa-760d-4444-ab2b-43d9dc2a5059",
   "metadata": {},
   "outputs": [
    {
     "name": "stdout",
     "output_type": "stream",
     "text": [
      "Dash is running on http://127.0.0.1:8050/\n",
      "\n",
      "Dash is running on http://127.0.0.1:8050/\n",
      "\n",
      "Dash is running on http://127.0.0.1:8050/\n",
      "\n",
      "Dash is running on http://127.0.0.1:8050/\n",
      "\n",
      "Dash is running on http://127.0.0.1:8050/\n",
      "\n",
      "Dash is running on http://127.0.0.1:8050/\n",
      "\n",
      " * Serving Flask app \"__main__\" (lazy loading)\n",
      " * Environment: production\n",
      "\u001b[31m   WARNING: This is a development server. Do not use it in a production deployment.\u001b[0m\n",
      "\u001b[2m   Use a production WSGI server instead.\u001b[0m\n",
      " * Debug mode: on\n"
     ]
    }
   ],
   "source": [
    "import plotly.graph_objects as go # or plotly.express as px\n",
    "import dash\n",
    "from dash import dcc\n",
    "from dash import html\n",
    "from dash.dependencies import Input, Output\n",
    "\n",
    "\n",
    "base_features = ['elevation', 'landcover', 'surface_pressure',\n",
    "                 'ghi', 'air_temperature', 'dew_point', 'surface_albedo', 'cloud_type',\n",
    "                 'wind_speed', 'relative_humidity', 'dni', 'solar_zenith_angle',\n",
    "                 'total_precipitable_water', 'dhi', 'clearsky_dhi', 'clearsky_ghi',\n",
    "                 'clearsky_dni', 'aod', 'cloud_press_acha','wind_direction','ozone','ssa']\n",
    "\n",
    "dropdown_options = []\n",
    "for f in base_features:\n",
    "    dropdown_options.append({'label':f,'value':f})\n",
    "\n",
    "app = dash.Dash()\n",
    "\n",
    "global fig\n",
    "fig = generate_figure(df,fig,features=['ghi','dni','dhi','air_temperature'],n_clusters=5,eps=0.07,min_pts=15,initialize=True)\n",
    "\n",
    "app.layout = html.Div([html.H6('NSRDB Clustering and Correlations',style={'width':'100%', 'textAlign': 'center','font-size': '25px',\"padding-top\": \"1px\"}), \n",
    "    html.Div([\n",
    "        \"DBSCAN eps: \",\n",
    "        dcc.Input(id='eps', value=0.01, type='text')\n",
    "    ],style={'width': '25%', 'display': 'inline-block','textAlign':'center','height':'10px'}),\n",
    "    html.Div([\n",
    "        \"KMeans n_clusters: \",\n",
    "        dcc.Input(id='n_clusters', value=5, type='text')\n",
    "    ],style={'width': '25%', 'display': 'inline-block','textAlign':'center'}),\n",
    "     html.Div([\n",
    "        \"Corr lat: \",\n",
    "        dcc.Input(id='lat', value=40, type='text')\n",
    "    ],style={'width': '25%', 'display': 'inline-block','textAlign':'center','height':'10px'}),\n",
    "    html.Div([\n",
    "        \"Corr lon: \",\n",
    "        dcc.Input(id='lon', value=-105, type='text')\n",
    "    ],style={'width': '25%', 'display': 'inline-block','textAlign':'center','height':'10px'}),\n",
    "    #html.H6('Feature Selection:',style={'width':'100%', 'textAlign': 'center','font-size': '26px'}),\n",
    "    dcc.Dropdown(id='features',\n",
    "    options=dropdown_options,\n",
    "    value=['ghi'],\n",
    "    multi=True,\n",
    "    style={'width':'1800px', 'textAlign': 'center'}),\n",
    "    html.Div([dcc.Graph(id='my-output')],style={'width':'90%','textAlign': 'center'}),\n",
    "    dcc.Interval(\n",
    "            id = 'graph-update',\n",
    "            interval = 1000,\n",
    "            n_intervals = 0\n",
    "        )\n",
    "\n",
    "],style={\"width\": \"1800px\",\n",
    "         \"height\": \"900px\",\n",
    "         \"display\": \"inline-block\",\n",
    "         \"border\": \"3px #5c5c5c solid\",\n",
    "         \"padding-top\": \"1px\",\n",
    "         \"padding-left\": \"1px\",\n",
    "         \"overflow\": \"hidden\"})\n",
    "\n",
    "\n",
    "@app.callback(\n",
    "    Output(component_id='my-output', component_property='figure'),\n",
    "    [Input(component_id='eps', component_property='value'),\n",
    "     Input(component_id='n_clusters', component_property='value'),\n",
    "     Input(component_id='features', component_property='value'),\n",
    "     Input(component_id='lat', component_property='value'),\n",
    "     Input(component_id='lon', component_property='value')]\n",
    ")\n",
    "def update_output_div(eps,n_clusters,features,lat,lon):\n",
    "    if eps is not None:\n",
    "        try:\n",
    "            eps = float(eps)\n",
    "            if eps <= 0.0:\n",
    "                eps = None\n",
    "        except:\n",
    "            eps = None\n",
    "    if n_clusters is not None:\n",
    "        try:\n",
    "            n_clusters = int(n_clusters)\n",
    "            if n_clusters <= 1:\n",
    "                n_clusters = None\n",
    "        except:\n",
    "            n_clusters = None\n",
    "    if lat is not None:\n",
    "        try:\n",
    "            lat = float(lat)\n",
    "        except:\n",
    "            lat = 40\n",
    "    if lon is not None:\n",
    "        try:\n",
    "            lon = float(lon)\n",
    "        except:\n",
    "            lon = -105\n",
    "    if not features:\n",
    "        features = ['ghi']\n",
    "    global fig\n",
    "    fig = generate_figure(df,fig,features,n_clusters=n_clusters,eps=eps,lat=lat,lon=lon)\n",
    "    return fig\n",
    "\n",
    "\n",
    "#if __name__ == '__main__':\n",
    "#    app.run_server(debug=True)\n",
    "\n",
    "\n",
    "app.run_server(debug=True, use_reloader=False)"
   ]
  },
  {
   "cell_type": "code",
   "execution_count": 417,
   "id": "a7d6f746-2997-40fa-8f91-9a73e3d0f7df",
   "metadata": {},
   "outputs": [],
   "source": [
    "pio.write_image(fig,'clusters_3.png')"
   ]
  },
  {
   "cell_type": "code",
   "execution_count": 52,
   "id": "8dafdb87-c3f9-4fa5-b0cd-91a6fc18eeac",
   "metadata": {},
   "outputs": [
    {
     "data": {
      "text/html": [
       "<iframe\n",
       "    scrolling=\"no\"\n",
       "    width=\"1120px\"\n",
       "    height=\"820\"\n",
       "    src=\"iframe_figures/figure_52.html\"\n",
       "    frameborder=\"0\"\n",
       "    allowfullscreen\n",
       "></iframe>\n"
      ]
     },
     "metadata": {},
     "output_type": "display_data"
    }
   ],
   "source": [
    "features=['ghi','dni']\n",
    "corrs = get_corrs(df,features=features)\n",
    "fig = go.Figure(go.Scattergeo(\n",
    "        lon = df['longitude'],\n",
    "        lat = df['latitude'],\n",
    "        text = corrs,\n",
    "        mode = 'markers',\n",
    "        marker_color = corrs,\n",
    "        marker = dict(colorscale='inferno',colorbar=dict(x=1.0,y=0.5,len=0.6)),\n",
    "        showlegend=False,\n",
    "        ))\n",
    "\n",
    "fig.update_geos(scope='usa')\n",
    "fig.update_layout(\n",
    "    title={\n",
    "        'text': 'Correlations with NREL',\n",
    "        'y':0.9,\n",
    "        'x':0.5},\n",
    "    title_font_size=40,\n",
    "    margin=dict(l=20, r=20, t=40, b=5),\n",
    "    paper_bgcolor=\"LightSteelBlue\",\n",
    "    height=800, width=1100,\n",
    ")\n",
    "fig.show()"
   ]
  },
  {
   "cell_type": "code",
   "execution_count": 53,
   "id": "69c0875a-0cdb-445d-b3db-35add4f7168a",
   "metadata": {},
   "outputs": [
    {
     "data": {
      "text/plain": [
       "0      1.0\n",
       "1      1.0\n",
       "2      1.0\n",
       "3      1.0\n",
       "4      1.0\n",
       "      ... \n",
       "542   -1.0\n",
       "543    1.0\n",
       "544    1.0\n",
       "545    1.0\n",
       "546    1.0\n",
       "Name: 81, Length: 547, dtype: float64"
      ]
     },
     "execution_count": 53,
     "metadata": {},
     "output_type": "execute_result"
    }
   ],
   "source": [
    "corrs"
   ]
  },
  {
   "cell_type": "code",
   "execution_count": 448,
   "id": "5c104051-eb98-440e-8fe0-0f0d8d254582",
   "metadata": {},
   "outputs": [],
   "source": [
    "pio.write_image(fig,'correlations_1.png')"
   ]
  },
  {
   "cell_type": "code",
   "execution_count": null,
   "id": "21db567b-eb23-40c4-9a81-e1cc4dd83ef8",
   "metadata": {},
   "outputs": [],
   "source": []
  }
 ],
 "metadata": {
  "kernelspec": {
   "display_name": "Python 3 (ipykernel)",
   "language": "python",
   "name": "python3"
  },
  "language_info": {
   "codemirror_mode": {
    "name": "ipython",
    "version": 3
   },
   "file_extension": ".py",
   "mimetype": "text/x-python",
   "name": "python",
   "nbconvert_exporter": "python",
   "pygments_lexer": "ipython3",
   "version": "3.9.4"
  }
 },
 "nbformat": 4,
 "nbformat_minor": 5
}
